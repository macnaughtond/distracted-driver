{
 "cells": [
  {
   "cell_type": "markdown",
   "metadata": {},
   "source": [
    "# Statefarm Data - Phase 4B - All-Convolutional Models"
   ]
  },
  {
   "cell_type": "markdown",
   "metadata": {},
   "source": [
    "Vgg16 performed better than InceptionV3 and Resnet50 in Phase4 experiments.  It was obvious that Vgg became over-fitted quite quickly.  It's no wonder when trying to train over 3 million parameters in the dense layers based on only 50 subjects (in turn providing approx. 22000 training images). Using dropout to control over-fitting is not an efficient way of creating a stable model either. Overfitting results when there is not enough data for the quantity of parameters requiring training.  (Though with infinitely flexible non-linear models, over-fitting will eventually happen with too much training unless is done to disrupt that process). Most of the parameters from the Vgg16 neural network are contributed by the dense fully connected layers, and comparatively few from the convolutional layers.  All convolutional model architectures are a way to reduce the number of parameters in a model and help eliminate an overfitting problem when not much training data is available.  "
   ]
  },
  {
   "cell_type": "markdown",
   "metadata": {},
   "source": [
    "#### In this notebook, my objective is comparing the performance of various all convolutional models based on Vgg19. "
   ]
  },
  {
   "cell_type": "code",
   "execution_count": 1,
   "metadata": {},
   "outputs": [
    {
     "name": "stderr",
     "output_type": "stream",
     "text": [
      "Using gpu device 0: Tesla K80 (CNMeM is disabled, cuDNN 5103)\n",
      "/home/ubuntu/anaconda2/lib/python2.7/site-packages/theano/sandbox/cuda/__init__.py:600: UserWarning: Your cuDNN version is more recent than the one Theano officially supports. If you see any problems, try updating Theano or downgrading cuDNN to version 5.\n",
      "  warnings.warn(warn)\n"
     ]
    }
   ],
   "source": [
    "import theano\n",
    "from theano.sandbox import cuda\n",
    "cuda.use('gpu0')"
   ]
  },
  {
   "cell_type": "code",
   "execution_count": 2,
   "metadata": {},
   "outputs": [
    {
     "name": "stdout",
     "output_type": "stream",
     "text": [
      "/home/ubuntu/nbs\n"
     ]
    }
   ],
   "source": [
    "%matplotlib inline\n",
    "IMPORT_DIR = '/home/ubuntu/nbs'\n",
    "%cd $IMPORT_DIR"
   ]
  },
  {
   "cell_type": "code",
   "execution_count": 3,
   "metadata": {},
   "outputs": [
    {
     "name": "stderr",
     "output_type": "stream",
     "text": [
      "Using Theano backend.\n"
     ]
    }
   ],
   "source": [
    "from __future__ import division,print_function\n",
    "\n",
    "import os, json\n",
    "from glob import glob\n",
    "import numpy as np\n",
    "np.set_printoptions(precision=4, linewidth=100)\n",
    "from matplotlib import pyplot as plt\n",
    "import daveutils\n",
    "from daveutils import *\n",
    "import davenet\n",
    "from davenet import *\n",
    "import my_cv_modeler\n",
    "from my_cv_modeler import *"
   ]
  },
  {
   "cell_type": "code",
   "execution_count": 4,
   "metadata": {
    "collapsed": true
   },
   "outputs": [],
   "source": [
    "ALL_DATA_DIR = '/home/ubuntu/'\n",
    "DATA_HOME_DIR = ALL_DATA_DIR+'statefarm1/'\n",
    "TRAIN_DIR = DATA_HOME_DIR+'train/'\n",
    "VALID_DIR = DATA_HOME_DIR+'valid/'\n",
    "SAMPLE_DIR = DATA_HOME_DIR+'sample/'\n",
    "MODELS_DIR = DATA_HOME_DIR+'models/'\n",
    "RESULTS_DIR = DATA_HOME_DIR+'results/'\n",
    "TEST_DIR = DATA_HOME_DIR+'test/'"
   ]
  },
  {
   "cell_type": "markdown",
   "metadata": {},
   "source": [
    "# 1. Prepare Data"
   ]
  },
  {
   "cell_type": "markdown",
   "metadata": {},
   "source": [
    "#### Identify and remove poor quality training data"
   ]
  },
  {
   "cell_type": "markdown",
   "metadata": {},
   "source": [
    "Previously Identified Data that is badly classified or multi-class:"
   ]
  },
  {
   "cell_type": "code",
   "execution_count": 5,
   "metadata": {
    "collapsed": true
   },
   "outputs": [],
   "source": [
    "bad_img_nums=np.array(['16927','101091','31121','27454','49471','47068','18737','14223','68147','68040','54867',\n",
    "                  '38427', '8131', '62871', '99733', '92769','75819', '79819'])\n",
    "#n.b. some of these image numbers at in the validation folder"
   ]
  },
  {
   "cell_type": "code",
   "execution_count": 6,
   "metadata": {},
   "outputs": [
    {
     "name": "stdout",
     "output_type": "stream",
     "text": [
      "/home/ubuntu/statefarm1\n"
     ]
    }
   ],
   "source": [
    "%cd $DATA_HOME_DIR"
   ]
  },
  {
   "cell_type": "markdown",
   "metadata": {},
   "source": [
    "Move bad images from /train to /bad folder"
   ]
  },
  {
   "cell_type": "code",
   "execution_count": 7,
   "metadata": {},
   "outputs": [
    {
     "name": "stdout",
     "output_type": "stream",
     "text": [
      "/home/ubuntu/statefarm1\n"
     ]
    }
   ],
   "source": [
    "from shutil import move\n",
    "from shutil import copytree #(src, dst, symlinks=False, ignore=None)\n",
    "%cd $DATA_HOME_DIR\n",
    "def move_bad_to_bad_folder(from_dir, bad_filenames, bad_dir = 'bad_train'):  #bad_dir must not already exist\n",
    "    count = 0\n",
    "    copytree(from_dir, bad_dir)\n",
    "    g = glob(from_dir+'/c?/*.jpg')\n",
    "    for filename in g:\n",
    "        if filename[len(from_dir)+8:][:-4] in bad_filenames:\n",
    "            print(filename[len(from_dir)+1:])\n",
    "            move(filename, bad_dir+'/'+filename[len(from_dir)+1:])\n",
    "            count+=1\n",
    "    print(count,\"items successfully moved from /\",from_dir,\"folder to: ../\",bad_dir)"
   ]
  },
  {
   "cell_type": "code",
   "execution_count": 8,
   "metadata": {},
   "outputs": [
    {
     "name": "stdout",
     "output_type": "stream",
     "text": [
      "c7/img_68040.jpg\n",
      "c7/img_75819.jpg\n",
      "c8/img_18737.jpg\n",
      "c8/img_49471.jpg\n",
      "c8/img_68147.jpg\n",
      "c0/img_14223.jpg\n",
      "c0/img_47068.jpg\n",
      "c0/img_79819.jpg\n",
      "c0/img_31121.jpg\n",
      "c0/img_101091.jpg\n",
      "c0/img_16927.jpg\n",
      "c2/img_62871.jpg\n",
      "c4/img_92769.jpg\n",
      "c4/img_38427.jpg\n",
      "c9/img_99733.jpg\n",
      "c1/img_54867.jpg\n",
      "c5/img_8131.jpg\n",
      "c5/img_27454.jpg\n",
      "18 items successfully moved from / train folder to: ../ bad_train\n"
     ]
    }
   ],
   "source": [
    "move_bad_to_bad_folder('train', bad_img_nums, 'bad_train')"
   ]
  },
  {
   "cell_type": "markdown",
   "metadata": {},
   "source": [
    "# 2. Create a Sequential Vgg Model "
   ]
  },
  {
   "cell_type": "markdown",
   "metadata": {},
   "source": [
    "### 1. Add fc_bn layers, and train only the final layer"
   ]
  },
  {
   "cell_type": "markdown",
   "metadata": {},
   "source": [
    "Import the fully trained Vgg16bn network from Imagenet"
   ]
  },
  {
   "cell_type": "code",
   "execution_count": 18,
   "metadata": {},
   "outputs": [
    {
     "name": "stdout",
     "output_type": "stream",
     "text": [
      "Downloading data from https://github.com/fchollet/deep-learning-models/releases/download/v0.1/vgg19_weights_th_dim_ordering_th_kernels.h5\n",
      "574717952/574710688 [==============================] - 38s    \n"
     ]
    }
   ],
   "source": [
    "from keras.applications.vgg19 import VGG19\n",
    "from keras.applications.vgg19 import preprocess_input\n",
    "from keras.models import Model\n",
    "\n",
    "vgg19layers = VGG19(include_top=True, weights='imagenet')\n",
    "#base_model = VGG19(weights='imagenet')\n",
    "#model = Model(input=base_model.input, output=base_model.get_layer('block4_pool').output)"
   ]
  },
  {
   "cell_type": "code",
   "execution_count": 19,
   "metadata": {
    "collapsed": true
   },
   "outputs": [],
   "source": [
    "save_model(vgg19layers,1,'vgg19')"
   ]
  },
  {
   "cell_type": "code",
   "execution_count": 20,
   "metadata": {
    "collapsed": true
   },
   "outputs": [
    {
     "name": "stdout",
     "output_type": "stream",
     "text": [
      "0 <keras.engine.topology.InputLayer object at 0x7f263fc00c90>\n",
      "1 <keras.layers.convolutional.Convolution2D object at 0x7f263fb9d050>\n",
      "2 <keras.layers.convolutional.Convolution2D object at 0x7f263fbb1350>\n",
      "3 <keras.layers.pooling.MaxPooling2D object at 0x7f263fb1b650>\n",
      "4 <keras.layers.convolutional.Convolution2D object at 0x7f263fb1b7d0>\n",
      "5 <keras.layers.convolutional.Convolution2D object at 0x7f263fb41a10>\n",
      "6 <keras.layers.pooling.MaxPooling2D object at 0x7f263fb44d10>\n",
      "7 <keras.layers.convolutional.Convolution2D object at 0x7f263fb44ed0>\n",
      "8 <keras.layers.convolutional.Convolution2D object at 0x7f263fad3190>\n",
      "9 <keras.layers.convolutional.Convolution2D object at 0x7f263fafa450>\n",
      "10 <keras.layers.convolutional.Convolution2D object at 0x7f2643a0d4d0>\n",
      "11 <keras.layers.pooling.MaxPooling2D object at 0x7f26439d3fd0>\n",
      "12 <keras.layers.convolutional.Convolution2D object at 0x7f26439f01d0>\n",
      "13 <keras.layers.convolutional.Convolution2D object at 0x7f2643488bd0>\n",
      "14 <keras.layers.convolutional.Convolution2D object at 0x7f26434a2d10>\n",
      "15 <keras.layers.convolutional.Convolution2D object at 0x7f2643db4490>\n",
      "16 <keras.layers.pooling.MaxPooling2D object at 0x7f2643dd9510>\n",
      "17 <keras.layers.convolutional.Convolution2D object at 0x7f2643dd9110>\n",
      "18 <keras.layers.convolutional.Convolution2D object at 0x7f2643d8dc90>\n",
      "19 <keras.layers.convolutional.Convolution2D object at 0x7f2643def550>\n",
      "20 <keras.layers.convolutional.Convolution2D object at 0x7f2643d06990>\n",
      "21 <keras.layers.pooling.MaxPooling2D object at 0x7f263fa4ee50>\n",
      "22 <keras.layers.core.Flatten object at 0x7f263fa50050>\n",
      "23 <keras.layers.core.Dense object at 0x7f263fa03890>\n",
      "24 <keras.layers.core.Dense object at 0x7f263fa0c210>\n",
      "25 <keras.layers.core.Dense object at 0x7f263f997490>\n"
     ]
    }
   ],
   "source": [
    "for i, layer in enumerate(vgg19layers.layers):\n",
    "    print(i, layer)"
   ]
  },
  {
   "cell_type": "code",
   "execution_count": 21,
   "metadata": {},
   "outputs": [
    {
     "name": "stdout",
     "output_type": "stream",
     "text": [
      "____________________________________________________________________________________________________\n",
      "Layer (type)                     Output Shape          Param #     Connected to                     \n",
      "====================================================================================================\n",
      "input_3 (InputLayer)             (None, 3, 224, 224)   0                                            \n",
      "____________________________________________________________________________________________________\n",
      "block1_conv1 (Convolution2D)     (None, 64, 224, 224)  1792        input_3[0][0]                    \n",
      "____________________________________________________________________________________________________\n",
      "block1_conv2 (Convolution2D)     (None, 64, 224, 224)  36928       block1_conv1[0][0]               \n",
      "____________________________________________________________________________________________________\n",
      "block1_pool (MaxPooling2D)       (None, 64, 112, 112)  0           block1_conv2[0][0]               \n",
      "____________________________________________________________________________________________________\n",
      "block2_conv1 (Convolution2D)     (None, 128, 112, 112) 73856       block1_pool[0][0]                \n",
      "____________________________________________________________________________________________________\n",
      "block2_conv2 (Convolution2D)     (None, 128, 112, 112) 147584      block2_conv1[0][0]               \n",
      "____________________________________________________________________________________________________\n",
      "block2_pool (MaxPooling2D)       (None, 128, 56, 56)   0           block2_conv2[0][0]               \n",
      "____________________________________________________________________________________________________\n",
      "block3_conv1 (Convolution2D)     (None, 256, 56, 56)   295168      block2_pool[0][0]                \n",
      "____________________________________________________________________________________________________\n",
      "block3_conv2 (Convolution2D)     (None, 256, 56, 56)   590080      block3_conv1[0][0]               \n",
      "____________________________________________________________________________________________________\n",
      "block3_conv3 (Convolution2D)     (None, 256, 56, 56)   590080      block3_conv2[0][0]               \n",
      "____________________________________________________________________________________________________\n",
      "block3_conv4 (Convolution2D)     (None, 256, 56, 56)   590080      block3_conv3[0][0]               \n",
      "____________________________________________________________________________________________________\n",
      "block3_pool (MaxPooling2D)       (None, 256, 28, 28)   0           block3_conv4[0][0]               \n",
      "____________________________________________________________________________________________________\n",
      "block4_conv1 (Convolution2D)     (None, 512, 28, 28)   1180160     block3_pool[0][0]                \n",
      "____________________________________________________________________________________________________\n",
      "block4_conv2 (Convolution2D)     (None, 512, 28, 28)   2359808     block4_conv1[0][0]               \n",
      "____________________________________________________________________________________________________\n",
      "block4_conv3 (Convolution2D)     (None, 512, 28, 28)   2359808     block4_conv2[0][0]               \n",
      "____________________________________________________________________________________________________\n",
      "block4_conv4 (Convolution2D)     (None, 512, 28, 28)   2359808     block4_conv3[0][0]               \n",
      "____________________________________________________________________________________________________\n",
      "block4_pool (MaxPooling2D)       (None, 512, 14, 14)   0           block4_conv4[0][0]               \n",
      "____________________________________________________________________________________________________\n",
      "block5_conv1 (Convolution2D)     (None, 512, 14, 14)   2359808     block4_pool[0][0]                \n",
      "____________________________________________________________________________________________________\n",
      "block5_conv2 (Convolution2D)     (None, 512, 14, 14)   2359808     block5_conv1[0][0]               \n",
      "____________________________________________________________________________________________________\n",
      "block5_conv3 (Convolution2D)     (None, 512, 14, 14)   2359808     block5_conv2[0][0]               \n",
      "____________________________________________________________________________________________________\n",
      "block5_conv4 (Convolution2D)     (None, 512, 14, 14)   2359808     block5_conv3[0][0]               \n",
      "____________________________________________________________________________________________________\n",
      "block5_pool (MaxPooling2D)       (None, 512, 7, 7)     0           block5_conv4[0][0]               \n",
      "____________________________________________________________________________________________________\n",
      "flatten (Flatten)                (None, 25088)         0           block5_pool[0][0]                \n",
      "____________________________________________________________________________________________________\n",
      "fc1 (Dense)                      (None, 4096)          102764544   flatten[0][0]                    \n",
      "____________________________________________________________________________________________________\n",
      "fc2 (Dense)                      (None, 4096)          16781312    fc1[0][0]                        \n",
      "____________________________________________________________________________________________________\n",
      "predictions (Dense)              (None, 1000)          4097000     fc2[0][0]                        \n",
      "====================================================================================================\n",
      "Total params: 143667240\n",
      "____________________________________________________________________________________________________\n"
     ]
    }
   ],
   "source": [
    "vgg19layers.summary()"
   ]
  },
  {
   "cell_type": "markdown",
   "metadata": {},
   "source": [
    "Make it so that the convoluted layers are not trainable"
   ]
  },
  {
   "cell_type": "markdown",
   "metadata": {},
   "source": [
    "# Freeze Conv Layers to FC1 and Add new Dense Layer"
   ]
  },
  {
   "cell_type": "code",
   "execution_count": 28,
   "metadata": {},
   "outputs": [
    {
     "name": "stdout",
     "output_type": "stream",
     "text": [
      "26 layers are frozen\n"
     ]
    }
   ],
   "source": [
    "count_frozen = 0\n",
    "for layer in vgg19layers.layers:\n",
    "    layer.trainable = False\n",
    "    if layer.trainable == False: count_frozen+=1\n",
    "print(count_frozen,\"layers are frozen\") "
   ]
  },
  {
   "cell_type": "markdown",
   "metadata": {},
   "source": [
    "Create a functional model"
   ]
  },
  {
   "cell_type": "code",
   "execution_count": 86,
   "metadata": {
    "collapsed": true
   },
   "outputs": [],
   "source": [
    "#model = Model(input=vgg19layers.input, output=vgg19layers.output)\n",
    "model = Model(input=vgg19layers.input, output=vgg19layers.get_layer('fc1').output)"
   ]
  },
  {
   "cell_type": "code",
   "execution_count": 52,
   "metadata": {},
   "outputs": [
    {
     "name": "stdout",
     "output_type": "stream",
     "text": [
      "____________________________________________________________________________________________________\n",
      "Layer (type)                     Output Shape          Param #     Connected to                     \n",
      "====================================================================================================\n",
      "input_3 (InputLayer)             (None, 3, 224, 224)   0                                            \n",
      "____________________________________________________________________________________________________\n",
      "block1_conv1 (Convolution2D)     (None, 64, 224, 224)  0           input_3[0][0]                    \n",
      "____________________________________________________________________________________________________\n",
      "block1_conv2 (Convolution2D)     (None, 64, 224, 224)  0           block1_conv1[0][0]               \n",
      "____________________________________________________________________________________________________\n",
      "block1_pool (MaxPooling2D)       (None, 64, 112, 112)  0           block1_conv2[0][0]               \n",
      "____________________________________________________________________________________________________\n",
      "block2_conv1 (Convolution2D)     (None, 128, 112, 112) 0           block1_pool[0][0]                \n",
      "____________________________________________________________________________________________________\n",
      "block2_conv2 (Convolution2D)     (None, 128, 112, 112) 0           block2_conv1[0][0]               \n",
      "____________________________________________________________________________________________________\n",
      "block2_pool (MaxPooling2D)       (None, 128, 56, 56)   0           block2_conv2[0][0]               \n",
      "____________________________________________________________________________________________________\n",
      "block3_conv1 (Convolution2D)     (None, 256, 56, 56)   0           block2_pool[0][0]                \n",
      "____________________________________________________________________________________________________\n",
      "block3_conv2 (Convolution2D)     (None, 256, 56, 56)   0           block3_conv1[0][0]               \n",
      "____________________________________________________________________________________________________\n",
      "block3_conv3 (Convolution2D)     (None, 256, 56, 56)   0           block3_conv2[0][0]               \n",
      "____________________________________________________________________________________________________\n",
      "block3_conv4 (Convolution2D)     (None, 256, 56, 56)   0           block3_conv3[0][0]               \n",
      "____________________________________________________________________________________________________\n",
      "block3_pool (MaxPooling2D)       (None, 256, 28, 28)   0           block3_conv4[0][0]               \n",
      "____________________________________________________________________________________________________\n",
      "block4_conv1 (Convolution2D)     (None, 512, 28, 28)   0           block3_pool[0][0]                \n",
      "____________________________________________________________________________________________________\n",
      "block4_conv2 (Convolution2D)     (None, 512, 28, 28)   0           block4_conv1[0][0]               \n",
      "____________________________________________________________________________________________________\n",
      "block4_conv3 (Convolution2D)     (None, 512, 28, 28)   0           block4_conv2[0][0]               \n",
      "____________________________________________________________________________________________________\n",
      "block4_conv4 (Convolution2D)     (None, 512, 28, 28)   0           block4_conv3[0][0]               \n",
      "____________________________________________________________________________________________________\n",
      "block4_pool (MaxPooling2D)       (None, 512, 14, 14)   0           block4_conv4[0][0]               \n",
      "____________________________________________________________________________________________________\n",
      "block5_conv1 (Convolution2D)     (None, 512, 14, 14)   0           block4_pool[0][0]                \n",
      "____________________________________________________________________________________________________\n",
      "block5_conv2 (Convolution2D)     (None, 512, 14, 14)   0           block5_conv1[0][0]               \n",
      "____________________________________________________________________________________________________\n",
      "block5_conv3 (Convolution2D)     (None, 512, 14, 14)   0           block5_conv2[0][0]               \n",
      "____________________________________________________________________________________________________\n",
      "block5_conv4 (Convolution2D)     (None, 512, 14, 14)   0           block5_conv3[0][0]               \n",
      "____________________________________________________________________________________________________\n",
      "block5_pool (MaxPooling2D)       (None, 512, 7, 7)     0           block5_conv4[0][0]               \n",
      "____________________________________________________________________________________________________\n",
      "flatten (Flatten)                (None, 25088)         0           block5_pool[0][0]                \n",
      "____________________________________________________________________________________________________\n",
      "fc1 (Dense)                      (None, 4096)          0           flatten[0][0]                    \n",
      "====================================================================================================\n",
      "Total params: 0\n",
      "____________________________________________________________________________________________________\n"
     ]
    }
   ],
   "source": [
    "model.summary()"
   ]
  },
  {
   "cell_type": "code",
   "execution_count": 91,
   "metadata": {
    "collapsed": true
   },
   "outputs": [],
   "source": [
    "x = model.get_layer('fc1')"
   ]
  },
  {
   "cell_type": "markdown",
   "metadata": {},
   "source": [
    "# Baseline Model: Finetune a truncated Vgg19 model (1x4096 fc hidden layer)"
   ]
  },
  {
   "cell_type": "code",
   "execution_count": 93,
   "metadata": {
    "collapsed": true
   },
   "outputs": [],
   "source": [
    "predictions = Dense(10, activation='softmax')(x.output)"
   ]
  },
  {
   "cell_type": "code",
   "execution_count": 96,
   "metadata": {
    "collapsed": true
   },
   "outputs": [],
   "source": [
    "vgg19short = Model(input=vgg19layers.input,output=predictions)"
   ]
  },
  {
   "cell_type": "code",
   "execution_count": 97,
   "metadata": {
    "scrolled": true
   },
   "outputs": [
    {
     "name": "stdout",
     "output_type": "stream",
     "text": [
      "____________________________________________________________________________________________________\n",
      "Layer (type)                     Output Shape          Param #     Connected to                     \n",
      "====================================================================================================\n",
      "input_3 (InputLayer)             (None, 3, 224, 224)   0                                            \n",
      "____________________________________________________________________________________________________\n",
      "block1_conv1 (Convolution2D)     (None, 64, 224, 224)  0           input_3[0][0]                    \n",
      "____________________________________________________________________________________________________\n",
      "block1_conv2 (Convolution2D)     (None, 64, 224, 224)  0           block1_conv1[0][0]               \n",
      "____________________________________________________________________________________________________\n",
      "block1_pool (MaxPooling2D)       (None, 64, 112, 112)  0           block1_conv2[0][0]               \n",
      "____________________________________________________________________________________________________\n",
      "block2_conv1 (Convolution2D)     (None, 128, 112, 112) 0           block1_pool[0][0]                \n",
      "____________________________________________________________________________________________________\n",
      "block2_conv2 (Convolution2D)     (None, 128, 112, 112) 0           block2_conv1[0][0]               \n",
      "____________________________________________________________________________________________________\n",
      "block2_pool (MaxPooling2D)       (None, 128, 56, 56)   0           block2_conv2[0][0]               \n",
      "____________________________________________________________________________________________________\n",
      "block3_conv1 (Convolution2D)     (None, 256, 56, 56)   0           block2_pool[0][0]                \n",
      "____________________________________________________________________________________________________\n",
      "block3_conv2 (Convolution2D)     (None, 256, 56, 56)   0           block3_conv1[0][0]               \n",
      "____________________________________________________________________________________________________\n",
      "block3_conv3 (Convolution2D)     (None, 256, 56, 56)   0           block3_conv2[0][0]               \n",
      "____________________________________________________________________________________________________\n",
      "block3_conv4 (Convolution2D)     (None, 256, 56, 56)   0           block3_conv3[0][0]               \n",
      "____________________________________________________________________________________________________\n",
      "block3_pool (MaxPooling2D)       (None, 256, 28, 28)   0           block3_conv4[0][0]               \n",
      "____________________________________________________________________________________________________\n",
      "block4_conv1 (Convolution2D)     (None, 512, 28, 28)   0           block3_pool[0][0]                \n",
      "____________________________________________________________________________________________________\n",
      "block4_conv2 (Convolution2D)     (None, 512, 28, 28)   0           block4_conv1[0][0]               \n",
      "____________________________________________________________________________________________________\n",
      "block4_conv3 (Convolution2D)     (None, 512, 28, 28)   0           block4_conv2[0][0]               \n",
      "____________________________________________________________________________________________________\n",
      "block4_conv4 (Convolution2D)     (None, 512, 28, 28)   0           block4_conv3[0][0]               \n",
      "____________________________________________________________________________________________________\n",
      "block4_pool (MaxPooling2D)       (None, 512, 14, 14)   0           block4_conv4[0][0]               \n",
      "____________________________________________________________________________________________________\n",
      "block5_conv1 (Convolution2D)     (None, 512, 14, 14)   0           block4_pool[0][0]                \n",
      "____________________________________________________________________________________________________\n",
      "block5_conv2 (Convolution2D)     (None, 512, 14, 14)   0           block5_conv1[0][0]               \n",
      "____________________________________________________________________________________________________\n",
      "block5_conv3 (Convolution2D)     (None, 512, 14, 14)   0           block5_conv2[0][0]               \n",
      "____________________________________________________________________________________________________\n",
      "block5_conv4 (Convolution2D)     (None, 512, 14, 14)   0           block5_conv3[0][0]               \n",
      "____________________________________________________________________________________________________\n",
      "block5_pool (MaxPooling2D)       (None, 512, 7, 7)     0           block5_conv4[0][0]               \n",
      "____________________________________________________________________________________________________\n",
      "flatten (Flatten)                (None, 25088)         0           block5_pool[0][0]                \n",
      "____________________________________________________________________________________________________\n",
      "fc1 (Dense)                      (None, 4096)          0           flatten[0][0]                    \n",
      "____________________________________________________________________________________________________\n",
      "dense_11 (Dense)                 (None, 10)            40970       fc1[0][0]                        \n",
      "====================================================================================================\n",
      "Total params: 40970\n",
      "____________________________________________________________________________________________________\n"
     ]
    }
   ],
   "source": [
    "vgg19short.summary()"
   ]
  },
  {
   "cell_type": "markdown",
   "metadata": {},
   "source": [
    "### Train the Baseline Model (1 hidden dense layer w 4096 filters)- including use of 14k pseudo label test cases"
   ]
  },
  {
   "cell_type": "markdown",
   "metadata": {},
   "source": [
    "Use ImageGenerator because there are too many training images to store (resized) in an array.\n",
    "1. Not using data augmentation at this stage.\n",
    "2. Not using validation data for training at this stage."
   ]
  },
  {
   "cell_type": "markdown",
   "metadata": {},
   "source": [
    "n.b. Mixiterator was not used.  Only test data having a prediction probability >0.995 has been used.\n",
    "This data is considered to be of such good quality that it can be mixed with real data. The pseudo training data will make up 43% of the training data at this stage (39% after validation data is added). Yes, it's a little high, but lets see how it goes.. "
   ]
  },
  {
   "cell_type": "markdown",
   "metadata": {},
   "source": [
    "Create the image generator (no augmentation)"
   ]
  },
  {
   "cell_type": "code",
   "execution_count": 98,
   "metadata": {
    "collapsed": true
   },
   "outputs": [],
   "source": [
    "TRAIN_DIR = ALL_DATA_DIR+'statefarm/train' # yes, this still includes the pseudo labelled data\n",
    "VALID_DIR = ALL_DATA_DIR+'statefarm/valid' #nb Notice that I've gone back to the orginal directory here"
   ]
  },
  {
   "cell_type": "code",
   "execution_count": 100,
   "metadata": {
    "collapsed": true
   },
   "outputs": [],
   "source": [
    "gen = ImageDataGenerator()"
   ]
  },
  {
   "cell_type": "code",
   "execution_count": 101,
   "metadata": {},
   "outputs": [
    {
     "name": "stdout",
     "output_type": "stream",
     "text": [
      "Found 32821 images belonging to 10 classes.\n"
     ]
    }
   ],
   "source": [
    "generator = gen.flow_from_directory(\n",
    "        TRAIN_DIR,\n",
    "        target_size=(224, 224),\n",
    "        batch_size=64,\n",
    "        class_mode='categorical',\n",
    "        shuffle=True)"
   ]
  },
  {
   "cell_type": "code",
   "execution_count": 102,
   "metadata": {},
   "outputs": [
    {
     "name": "stdout",
     "output_type": "stream",
     "text": [
      "Found 3827 images belonging to 10 classes.\n"
     ]
    },
    {
     "data": {
      "text/plain": [
       "3827"
      ]
     },
     "execution_count": 102,
     "metadata": {},
     "output_type": "execute_result"
    }
   ],
   "source": [
    "val_generator = gen.flow_from_directory(\n",
    "        VALID_DIR,\n",
    "        target_size=(224, 224),\n",
    "        batch_size=64,\n",
    "        class_mode='categorical',\n",
    "        shuffle=True)\n",
    "val_generator.N"
   ]
  },
  {
   "cell_type": "code",
   "execution_count": 104,
   "metadata": {
    "collapsed": true
   },
   "outputs": [],
   "source": [
    "vgg19short.compile(Adam(lr=0.001), loss='categorical_crossentropy', metrics=['accuracy'])"
   ]
  },
  {
   "cell_type": "code",
   "execution_count": 105,
   "metadata": {
    "scrolled": true
   },
   "outputs": [
    {
     "name": "stdout",
     "output_type": "stream",
     "text": [
      "Epoch 1/2\n",
      "32821/32821 [==============================] - 893s - loss: 0.4455 - acc: 0.9020 - val_loss: 2.8391 - val_acc: 0.5566\n",
      "Epoch 2/2\n",
      "32821/32821 [==============================] - 896s - loss: 0.0451 - acc: 0.9870 - val_loss: 2.2483 - val_acc: 0.6279\n"
     ]
    },
    {
     "data": {
      "text/plain": [
       "<keras.callbacks.History at 0x7f263ccb99d0>"
      ]
     },
     "execution_count": 105,
     "metadata": {},
     "output_type": "execute_result"
    }
   ],
   "source": [
    "vgg19short.fit_generator(\n",
    "        generator,\n",
    "        samples_per_epoch=generator.N,\n",
    "        nb_epoch=2,\n",
    "        validation_data=val_generator,\n",
    "        nb_val_samples=1000)"
   ]
  },
  {
   "cell_type": "code",
   "execution_count": 106,
   "metadata": {},
   "outputs": [
    {
     "name": "stdout",
     "output_type": "stream",
     "text": [
      "Epoch 1/2\n",
      "32821/32821 [==============================] - 921s - loss: 0.0207 - acc: 0.9938 - val_loss: 2.8425 - val_acc: 0.6138\n",
      "Epoch 2/2\n",
      "32821/32821 [==============================] - 920s - loss: 0.0174 - acc: 0.9944 - val_loss: 2.9844 - val_acc: 0.6290\n"
     ]
    },
    {
     "data": {
      "text/plain": [
       "<keras.callbacks.History at 0x7f2631f749d0>"
      ]
     },
     "execution_count": 106,
     "metadata": {},
     "output_type": "execute_result"
    }
   ],
   "source": [
    "vgg19short.optimizer.lr=0.0001\n",
    "vgg19short.fit_generator(\n",
    "        generator,\n",
    "        samples_per_epoch=generator.N,\n",
    "        nb_epoch=2,\n",
    "        validation_data=val_generator,\n",
    "        nb_val_samples=2000)"
   ]
  },
  {
   "cell_type": "markdown",
   "metadata": {},
   "source": [
    "### Improve the Baseline Vgg19 Model - 2 x hidden fully-connected layers (nf = 256 + 256)"
   ]
  },
  {
   "cell_type": "markdown",
   "metadata": {},
   "source": [
    "Even though the validation data has completely different test subject, It still appears to be massively overfitting judging by the difference between training and validation accuracy as compared to previous modeling attemps where a validation accuracy of up to 0.84 was achieved.  So lets reduce the number of parameters in the hidden dense layer and add another hidden dense layer."
   ]
  },
  {
   "cell_type": "code",
   "execution_count": 107,
   "metadata": {
    "collapsed": true
   },
   "outputs": [],
   "source": [
    "conv_model = Model(input=vgg19layers.input, output=vgg19layers.get_layer('block5_pool').output)\n",
    "x = conv_model.get_layer('block5_pool').output\n",
    "\n",
    "x = MaxPooling2D((2, 2))(x)\n",
    "x = BatchNormalization()(x)\n",
    "x = Flatten()(x)\n",
    "x = Dense(256, activation='softmax')(x)\n",
    "x = BatchNormalization()(x)\n",
    "x = Dense(256, activation='softmax')(x)\n",
    "x = BatchNormalization()(x)\n",
    "outp = Dense(10, activation='softmax')(x)\n",
    "vgg19shorter = Model(input=vgg19layers.input,output=outp)"
   ]
  },
  {
   "cell_type": "code",
   "execution_count": 112,
   "metadata": {},
   "outputs": [
    {
     "name": "stdout",
     "output_type": "stream",
     "text": [
      "Epoch 1/1\n",
      "32821/32821 [==============================] - 971s - loss: 0.9037 - acc: 0.5800 - val_loss: 1.5301 - val_acc: 0.4585\n"
     ]
    },
    {
     "data": {
      "text/plain": [
       "<keras.callbacks.History at 0x7f263d3746d0>"
      ]
     },
     "execution_count": 112,
     "metadata": {},
     "output_type": "execute_result"
    }
   ],
   "source": [
    "vgg19shorter.compile(Adam(lr=0.001), loss='categorical_crossentropy', metrics=['accuracy'])\n",
    "#vgg19shorter.optimizer.lr=0.001\n",
    "vgg19shorter.fit_generator(\n",
    "        generator,\n",
    "        samples_per_epoch=generator.N,\n",
    "        nb_epoch=1,\n",
    "        validation_data=val_generator,\n",
    "        nb_val_samples=2000)"
   ]
  },
  {
   "cell_type": "code",
   "execution_count": 115,
   "metadata": {
    "collapsed": true
   },
   "outputs": [],
   "source": [
    "conv_model = Model(input=vgg19layers.input, output=vgg19layers.get_layer('block5_pool').output)\n",
    "x = conv_model.get_layer('block5_pool').output\n",
    "\n",
    "x = MaxPooling2D((2, 2))(x)\n",
    "x = BatchNormalization()(x)\n",
    "x = Flatten()(x)\n",
    "x = Dense(256, activation='softmax')(x)\n",
    "x = BatchNormalization()(x)\n",
    "outp = Dense(10, activation='softmax')(x)\n",
    "vgg19shortest = Model(input=vgg19layers.input,output=outp)\n",
    "vgg19shortest.compile(Adam(lr=0.001), loss='categorical_crossentropy', metrics=['accuracy'])"
   ]
  },
  {
   "cell_type": "code",
   "execution_count": 116,
   "metadata": {
    "collapsed": true
   },
   "outputs": [
    {
     "name": "stdout",
     "output_type": "stream",
     "text": [
      "____________________________________________________________________________________________________\n",
      "Layer (type)                     Output Shape          Param #     Connected to                     \n",
      "====================================================================================================\n",
      "input_3 (InputLayer)             (None, 3, 224, 224)   0                                            \n",
      "____________________________________________________________________________________________________\n",
      "block1_conv1 (Convolution2D)     (None, 64, 224, 224)  0           input_3[0][0]                    \n",
      "____________________________________________________________________________________________________\n",
      "block1_conv2 (Convolution2D)     (None, 64, 224, 224)  0           block1_conv1[0][0]               \n",
      "____________________________________________________________________________________________________\n",
      "block1_pool (MaxPooling2D)       (None, 64, 112, 112)  0           block1_conv2[0][0]               \n",
      "____________________________________________________________________________________________________\n",
      "block2_conv1 (Convolution2D)     (None, 128, 112, 112) 0           block1_pool[0][0]                \n",
      "____________________________________________________________________________________________________\n",
      "block2_conv2 (Convolution2D)     (None, 128, 112, 112) 0           block2_conv1[0][0]               \n",
      "____________________________________________________________________________________________________\n",
      "block2_pool (MaxPooling2D)       (None, 128, 56, 56)   0           block2_conv2[0][0]               \n",
      "____________________________________________________________________________________________________\n",
      "block3_conv1 (Convolution2D)     (None, 256, 56, 56)   0           block2_pool[0][0]                \n",
      "____________________________________________________________________________________________________\n",
      "block3_conv2 (Convolution2D)     (None, 256, 56, 56)   0           block3_conv1[0][0]               \n",
      "____________________________________________________________________________________________________\n",
      "block3_conv3 (Convolution2D)     (None, 256, 56, 56)   0           block3_conv2[0][0]               \n",
      "____________________________________________________________________________________________________\n",
      "block3_conv4 (Convolution2D)     (None, 256, 56, 56)   0           block3_conv3[0][0]               \n",
      "____________________________________________________________________________________________________\n",
      "block3_pool (MaxPooling2D)       (None, 256, 28, 28)   0           block3_conv4[0][0]               \n",
      "____________________________________________________________________________________________________\n",
      "block4_conv1 (Convolution2D)     (None, 512, 28, 28)   0           block3_pool[0][0]                \n",
      "____________________________________________________________________________________________________\n",
      "block4_conv2 (Convolution2D)     (None, 512, 28, 28)   0           block4_conv1[0][0]               \n",
      "____________________________________________________________________________________________________\n",
      "block4_conv3 (Convolution2D)     (None, 512, 28, 28)   0           block4_conv2[0][0]               \n",
      "____________________________________________________________________________________________________\n",
      "block4_conv4 (Convolution2D)     (None, 512, 28, 28)   0           block4_conv3[0][0]               \n",
      "____________________________________________________________________________________________________\n",
      "block4_pool (MaxPooling2D)       (None, 512, 14, 14)   0           block4_conv4[0][0]               \n",
      "____________________________________________________________________________________________________\n",
      "block5_conv1 (Convolution2D)     (None, 512, 14, 14)   0           block4_pool[0][0]                \n",
      "____________________________________________________________________________________________________\n",
      "block5_conv2 (Convolution2D)     (None, 512, 14, 14)   0           block5_conv1[0][0]               \n",
      "____________________________________________________________________________________________________\n",
      "block5_conv3 (Convolution2D)     (None, 512, 14, 14)   0           block5_conv2[0][0]               \n",
      "____________________________________________________________________________________________________\n",
      "block5_conv4 (Convolution2D)     (None, 512, 14, 14)   0           block5_conv3[0][0]               \n",
      "____________________________________________________________________________________________________\n",
      "block5_pool (MaxPooling2D)       (None, 512, 7, 7)     0           block5_conv4[0][0]               \n",
      "____________________________________________________________________________________________________\n",
      "maxpooling2d_3 (MaxPooling2D)    (None, 512, 3, 3)     0           block5_pool[0][0]                \n",
      "____________________________________________________________________________________________________\n",
      "batchnormalization_10 (BatchNorma(None, 512, 3, 3)     6           maxpooling2d_3[0][0]             \n",
      "____________________________________________________________________________________________________\n",
      "flatten_2 (Flatten)              (None, 4608)          0           batchnormalization_10[0][0]      \n",
      "____________________________________________________________________________________________________\n",
      "dense_15 (Dense)                 (None, 256)           1179904     flatten_2[0][0]                  \n",
      "____________________________________________________________________________________________________\n",
      "batchnormalization_11 (BatchNorma(None, 256)           512         dense_15[0][0]                   \n",
      "____________________________________________________________________________________________________\n",
      "dense_16 (Dense)                 (None, 10)            2570        batchnormalization_11[0][0]      \n",
      "====================================================================================================\n",
      "Total params: 1182992\n",
      "____________________________________________________________________________________________________\n"
     ]
    }
   ],
   "source": [
    "vgg19shortest.summary()"
   ]
  },
  {
   "cell_type": "code",
   "execution_count": 117,
   "metadata": {},
   "outputs": [
    {
     "name": "stdout",
     "output_type": "stream",
     "text": [
      "Epoch 1/1\n",
      "32821/32821 [==============================] - 971s - loss: 1.0551 - acc: 0.6143 - val_loss: 1.4671 - val_acc: 0.5568\n"
     ]
    },
    {
     "data": {
      "text/plain": [
       "<keras.callbacks.History at 0x7f2615489f50>"
      ]
     },
     "execution_count": 117,
     "metadata": {},
     "output_type": "execute_result"
    }
   ],
   "source": [
    "vgg19shortest.optimizer.lr=0.01\n",
    "vgg19shortest.fit_generator(\n",
    "        generator,\n",
    "        samples_per_epoch=generator.N,\n",
    "        nb_epoch=1,\n",
    "        validation_data=val_generator,\n",
    "        nb_val_samples=2000)"
   ]
  },
  {
   "cell_type": "code",
   "execution_count": 121,
   "metadata": {
    "scrolled": true
   },
   "outputs": [
    {
     "name": "stdout",
     "output_type": "stream",
     "text": [
      "Epoch 1/1\n",
      "32821/32821 [==============================] - 973s - loss: 0.6101 - acc: 0.7394 - val_loss: 1.7778 - val_acc: 0.5552\n"
     ]
    },
    {
     "data": {
      "text/plain": [
       "<keras.callbacks.History at 0x7f261daac790>"
      ]
     },
     "execution_count": 121,
     "metadata": {},
     "output_type": "execute_result"
    }
   ],
   "source": [
    "vgg19shortest.optimizer.lr=0.001\n",
    "vgg19shortest.fit_generator(\n",
    "        generator,\n",
    "        samples_per_epoch=generator.N,\n",
    "        nb_epoch=1,\n",
    "        validation_data=val_generator,\n",
    "        nb_val_samples=2000)"
   ]
  },
  {
   "cell_type": "markdown",
   "metadata": {},
   "source": [
    "Doesn't seem to converge when using bigger or smaller learning rates. Abandon this model here for now. Use vgg19short as the baseline for measuring the all convolutional models below."
   ]
  },
  {
   "cell_type": "markdown",
   "metadata": {},
   "source": [
    "# Vgg19 Fully Convolutional Model"
   ]
  },
  {
   "cell_type": "code",
   "execution_count": 130,
   "metadata": {},
   "outputs": [
    {
     "name": "stdout",
     "output_type": "stream",
     "text": [
      "th\n"
     ]
    }
   ],
   "source": [
    "from keras.layers.pooling import GlobalMaxPooling2D\n",
    "conv_model = Model(input=vgg19layers.input, output=vgg19layers.get_layer('block5_pool').output)\n",
    "x = conv_model.get_layer('block5_pool').output\n",
    "\n",
    "nf = 512\n",
    "x = BatchNormalization()(x)\n",
    "x = Convolution2D(nf,3,3, border_mode='same')(x)\n",
    "x = BatchNormalization()(x)\n",
    "x = MaxPooling2D((2, 2))(x)\n",
    "x = Convolution2D(nf//2,3,3, border_mode='same')(x)\n",
    "x = BatchNormalization()(x)\n",
    "x = Convolution2D(nf//4,3,3, border_mode='same')(x)\n",
    "x = BatchNormalization()(x)\n",
    "x = MaxPooling2D((2, 2))(x)\n",
    "        \n",
    "x = Convolution2D(10,3,3, border_mode='same')(x)\n",
    "x = GlobalAveragePooling2D()(x)#x = GlobalMaxPooling2D()(x)#GlobalMaxPooling2D(dim_ordering='default')#\n",
    "outp = Activation('softmax')(x)"
   ]
  },
  {
   "cell_type": "code",
   "execution_count": 131,
   "metadata": {
    "scrolled": true
   },
   "outputs": [
    {
     "name": "stdout",
     "output_type": "stream",
     "text": [
      "Epoch 1/2\n",
      "32821/32821 [==============================] - 1332s - loss: 0.2153 - acc: 0.9324 - val_loss: 0.8319 - val_acc: 0.7363\n",
      "Epoch 2/2\n",
      "32821/32821 [==============================] - 1333s - loss: 0.0100 - acc: 0.9976 - val_loss: 0.9775 - val_acc: 0.7549\n"
     ]
    },
    {
     "data": {
      "text/plain": [
       "<keras.callbacks.History at 0x7f2608cb5790>"
      ]
     },
     "execution_count": 131,
     "metadata": {},
     "output_type": "execute_result"
    }
   ],
   "source": [
    "vgg19allConv = Model(input=vgg19layers.input,output=outp)\n",
    "vgg19allConv.compile(Adam(lr=0.001), loss='categorical_crossentropy', metrics=['accuracy'])\n",
    "\n",
    "vgg19allConv.fit_generator(\n",
    "        generator,\n",
    "        samples_per_epoch=generator.N,\n",
    "        nb_epoch=2,\n",
    "        validation_data=val_generator,\n",
    "        nb_val_samples=1000\n",
    ")"
   ]
  },
  {
   "cell_type": "code",
   "execution_count": 132,
   "metadata": {
    "collapsed": true
   },
   "outputs": [],
   "source": [
    "save_model(vgg19allConv, 1, cross='vgg19allConv')"
   ]
  },
  {
   "cell_type": "code",
   "execution_count": 133,
   "metadata": {},
   "outputs": [
    {
     "name": "stdout",
     "output_type": "stream",
     "text": [
      "th\n"
     ]
    }
   ],
   "source": [
    "conv_model = Model(input=vgg19layers.input, output=vgg19layers.get_layer('block5_pool').output)\n",
    "x = conv_model.get_layer('block5_pool').output\n",
    "\n",
    "nf = 512\n",
    "x = BatchNormalization()(x)\n",
    "x = Convolution2D(nf,3,3, border_mode='same')(x)\n",
    "x = BatchNormalization()(x)\n",
    "x = MaxPooling2D((2, 2))(x)\n",
    "        \n",
    "x = Convolution2D(10,3,3, border_mode='same')(x)\n",
    "x = GlobalAveragePooling2D()(x)#x = GlobalMaxPooling2D()(x)#GlobalMaxPooling2D(dim_ordering='default')#\n",
    "outp = Activation('softmax')(x)"
   ]
  },
  {
   "cell_type": "code",
   "execution_count": 134,
   "metadata": {},
   "outputs": [
    {
     "name": "stdout",
     "output_type": "stream",
     "text": [
      "Epoch 1/1\n",
      "32821/32821 [==============================] - 1264s - loss: 0.4111 - acc: 0.9388 - val_loss: 1.1036 - val_acc: 0.7013\n"
     ]
    },
    {
     "data": {
      "text/plain": [
       "<keras.callbacks.History at 0x7f261205d150>"
      ]
     },
     "execution_count": 134,
     "metadata": {},
     "output_type": "execute_result"
    }
   ],
   "source": [
    "vgg19smallConv = Model(input=vgg19layers.input,output=outp)\n",
    "vgg19smallConv.compile(Adam(lr=0.001), loss='categorical_crossentropy', metrics=['accuracy'])\n",
    "\n",
    "vgg19smallConv.fit_generator(\n",
    "        generator,\n",
    "        samples_per_epoch=generator.N,\n",
    "        nb_epoch=1,\n",
    "        validation_data=val_generator,\n",
    "        nb_val_samples=1000\n",
    ")"
   ]
  },
  {
   "cell_type": "code",
   "execution_count": 135,
   "metadata": {},
   "outputs": [
    {
     "name": "stdout",
     "output_type": "stream",
     "text": [
      "Epoch 1/1\n",
      "32821/32821 [==============================] - 1265s - loss: 0.0172 - acc: 0.9946 - val_loss: 1.7604 - val_acc: 0.6670\n"
     ]
    },
    {
     "data": {
      "text/plain": [
       "<keras.callbacks.History at 0x7f261205d910>"
      ]
     },
     "execution_count": 135,
     "metadata": {},
     "output_type": "execute_result"
    }
   ],
   "source": [
    "vgg19smallConv.optimizer.lr=0.0001\n",
    "vgg19smallConv.fit_generator(\n",
    "        generator,\n",
    "        samples_per_epoch=generator.N,\n",
    "        nb_epoch=1,\n",
    "        validation_data=val_generator,\n",
    "        nb_val_samples=1000\n",
    ")"
   ]
  },
  {
   "cell_type": "code",
   "execution_count": 136,
   "metadata": {
    "collapsed": true
   },
   "outputs": [],
   "source": [
    "save_model(vgg19smallConv, 1, cross='vgg19smallConv')"
   ]
  },
  {
   "cell_type": "markdown",
   "metadata": {},
   "source": [
    "Prepare for final modelling stage. Add the validation images back into the training images."
   ]
  },
  {
   "cell_type": "markdown",
   "metadata": {},
   "source": [
    "# Conclusions"
   ]
  },
  {
   "cell_type": "markdown",
   "metadata": {},
   "source": [
    "Two all convolutional models were built and trained.  In addition to the frozen convolution layers of Vgg19, the custom models defined by the architecture of the custom 'top' are described by these hidden layers:\n",
    "0. vgg19short(0.63) = Frozen( vgg19conv + flatten + Dense(4096) ) + Dense(10)\n",
    "1. vgg19allConv(0.75) = Frozen( vgg19conv ) + Conv2D(512,3,3) + Conv2D(256,3,3) + Conv2D(127,3,3) + GAP\n",
    "2. vgg19smallConv(0.67) = Frozen( vgg19conv ) + Conv2D(512,3,3) + GAP(i.e. GlobAveragePooling2D())\n",
    "\n",
    "Additionally these models all contained MaxPooling and BatchNormalization layers in their custom tops.\n",
    "\n",
    "In the list above, the best achieved validation dataset classification accuracy is shown in parenthesis after the model name.  All of these models were trained with the assistance of approx 14k high quality (>0.995 prob) pseudo labelled test images, plus the original training data less approx 3600 validation cases.  All of the models quickly showed evidence of overfitting.   In the case of the all-convolutional models (particularly vgg19smallConv) the overfitting can hardly be blamed on too many parameters for the amount of training data. See other notebooks in this series to see what could be achieved with a similar number of parameters. \n",
    "\n",
    "In retrospect, further model training using data augmentation could have done to prevent overfitting. However, it was noted the all-convolutional models (Vgg16 based) trained by Jeremy Howard to classify the statefarm distracted driver data set also resulted in slighly lower classification accuracy than a lightweight model with some fixed layers.   Hence, I shelved all convolutional modeling at this point. \n",
    "\n",
    "Recommended further work for All convolutional model:\n",
    "1. Additional training of the models described in this notebook using augmentation of the training and pseudo imgs.\n",
    "2. Optimization of the number of filters and architecture of these customised tops.\n",
    "3. Unfreezing and annealing of the upper Vgg19 original convolutional layers with a very small learning rate.\n",
    "3. Repeat work using the Vgg16 network as a basis for the transfer learning.  \n",
    "4. Use of GlobalMaximumPooling2D instead of GlobalAveragePooling \n",
    "\n",
    "The reason for the final recommendation is that most of the classes can be determined by just one instance of a key features such as a hand and what that hand is holding/touching. Other important features involve much larger areas such as the torso and face direction.  Use of GlobalAveragePooling may dilute the importance of the hand as a predictor.\n",
    "\n",
    "Naturally, if an all convolutional model is found to be competitive, final training should be performed by returning the validation images to the training dataset."
   ]
  },
  {
   "cell_type": "markdown",
   "metadata": {},
   "source": [
    "Next step: include the validation images in the model.  See ..phase5.  Use data in statefarm1 because the validation data was not split off.  Use Vgg model because it is better than ResNet50 so far.  "
   ]
  }
 ],
 "metadata": {
  "kernelspec": {
   "display_name": "Python 2",
   "language": "python",
   "name": "python2"
  },
  "language_info": {
   "codemirror_mode": {
    "name": "ipython",
    "version": 2
   },
   "file_extension": ".py",
   "mimetype": "text/x-python",
   "name": "python",
   "nbconvert_exporter": "python",
   "pygments_lexer": "ipython2",
   "version": "2.7.14"
  }
 },
 "nbformat": 4,
 "nbformat_minor": 2
}
