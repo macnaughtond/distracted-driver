{
 "cells": [
  {
   "cell_type": "markdown",
   "metadata": {},
   "source": [
    "# Statefarm Data - Phase4 - Comparing VGG16, InceptionV3 and ResNet50"
   ]
  },
  {
   "cell_type": "markdown",
   "metadata": {},
   "source": [
    "Comparing various models after removal of marginal quality data and using 14000 cases of pseudo labeled data"
   ]
  },
  {
   "cell_type": "code",
   "execution_count": 3,
   "metadata": {},
   "outputs": [
    {
     "name": "stderr",
     "output_type": "stream",
     "text": [
      "Using gpu device 0: Tesla K80 (CNMeM is disabled, cuDNN 5103)\n",
      "/home/ubuntu/anaconda2/lib/python2.7/site-packages/theano/sandbox/cuda/__init__.py:600: UserWarning: Your cuDNN version is more recent than the one Theano officially supports. If you see any problems, try updating Theano or downgrading cuDNN to version 5.\n",
      "  warnings.warn(warn)\n"
     ]
    }
   ],
   "source": [
    "import theano\n",
    "from theano.sandbox import cuda\n",
    "cuda.use('gpu0')"
   ]
  },
  {
   "cell_type": "code",
   "execution_count": 4,
   "metadata": {},
   "outputs": [
    {
     "name": "stdout",
     "output_type": "stream",
     "text": [
      "/home/ubuntu/nbs\n"
     ]
    }
   ],
   "source": [
    "%matplotlib inline\n",
    "IMPORT_DIR = '/home/ubuntu/nbs'\n",
    "%cd $IMPORT_DIR"
   ]
  },
  {
   "cell_type": "code",
   "execution_count": 5,
   "metadata": {},
   "outputs": [
    {
     "name": "stderr",
     "output_type": "stream",
     "text": [
      "Using Theano backend.\n"
     ]
    }
   ],
   "source": [
    "from __future__ import division,print_function\n",
    "\n",
    "import os, json\n",
    "from glob import glob\n",
    "import numpy as np\n",
    "np.set_printoptions(precision=4, linewidth=100)\n",
    "from matplotlib import pyplot as plt\n",
    "import daveutils\n",
    "from daveutils import *\n",
    "import davenet\n",
    "from davenet import *\n",
    "import my_cv_modeler\n",
    "from my_cv_modeler import *"
   ]
  },
  {
   "cell_type": "code",
   "execution_count": 6,
   "metadata": {},
   "outputs": [],
   "source": [
    "ALL_DATA_DIR = '/home/ubuntu/'\n",
    "DATA_HOME_DIR = ALL_DATA_DIR+'statefarm/'\n",
    "TRAIN_DIR = DATA_HOME_DIR+'train/'\n",
    "VALID_DIR = DATA_HOME_DIR+'valid/'\n",
    "SAMPLE_DIR = DATA_HOME_DIR+'sample/'\n",
    "MODELS_DIR = DATA_HOME_DIR+'models/'\n",
    "RESULTS_DIR = DATA_HOME_DIR+'results/'\n",
    "TEST_DIR = DATA_HOME_DIR+'test/'"
   ]
  },
  {
   "cell_type": "markdown",
   "metadata": {},
   "source": [
    "# 1. Prepare Data"
   ]
  },
  {
   "cell_type": "markdown",
   "metadata": {},
   "source": [
    "#### Identify and remove poor quality training data"
   ]
  },
  {
   "cell_type": "markdown",
   "metadata": {},
   "source": [
    "Previously Identified Data that is badly classified or multi-class:"
   ]
  },
  {
   "cell_type": "code",
   "execution_count": 7,
   "metadata": {},
   "outputs": [],
   "source": [
    "bad_img_nums=np.array(['16927','101091','31121','27454','49471','47068','18737','14223','68147','68040','54867',\n",
    "                  '38427', '8131', '62871', '99733', '92769','75819', '79819'])\n",
    "#n.b. some of these image numbers at in the validation folder"
   ]
  },
  {
   "cell_type": "code",
   "execution_count": 8,
   "metadata": {},
   "outputs": [
    {
     "name": "stdout",
     "output_type": "stream",
     "text": [
      "/home/ubuntu/statefarm\n"
     ]
    }
   ],
   "source": [
    "%cd $DATA_HOME_DIR"
   ]
  },
  {
   "cell_type": "markdown",
   "metadata": {},
   "source": [
    "Move bad images from /train to /bad folder"
   ]
  },
  {
   "cell_type": "code",
   "execution_count": 43,
   "metadata": {},
   "outputs": [
    {
     "name": "stdout",
     "output_type": "stream",
     "text": [
      "/home/ubuntu/statefarm\n"
     ]
    }
   ],
   "source": [
    "from shutil import move\n",
    "from shutil import copytree #(src, dst, symlinks=False, ignore=None)\n",
    "%cd $DATA_HOME_DIR\n",
    "def move_bad_to_bad_folder(from_dir, bad_filenames, bad_dir = 'bad_train'):  #bad_dir must not already exist\n",
    "    count = 0\n",
    "    copytree(from_dir, bad_dir)\n",
    "    g = glob(from_dir+'/c?/*.jpg')\n",
    "    for filename in g:\n",
    "        if filename[len(from_dir)+8:][:-4] in bad_filenames:\n",
    "            print(filename[len(from_dir)+1:])\n",
    "            move(filename, bad_dir+'/'+filename[len(from_dir)+1:])\n",
    "            count+=1\n",
    "    print(count,\"items successfully moved from /\",from_dir,\"folder to: ../\",bad_dir)"
   ]
  },
  {
   "cell_type": "code",
   "execution_count": 45,
   "metadata": {},
   "outputs": [
    {
     "name": "stdout",
     "output_type": "stream",
     "text": [
      "c8/img_18737.jpg\n",
      "c8/img_49471.jpg\n",
      "c8/img_68147.jpg\n",
      "c0/img_14223.jpg\n",
      "c0/img_47068.jpg\n",
      "c0/img_79819.jpg\n",
      "c0/img_31121.jpg\n",
      "c0/img_101091.jpg\n",
      "c0/img_16927.jpg\n",
      "c2/img_62871.jpg\n",
      "c4/img_92769.jpg\n",
      "c4/img_38427.jpg\n",
      "c5/img_27454.jpg\n",
      "13 items successfully moved from / train folder to: ../ bad_train\n"
     ]
    }
   ],
   "source": [
    "move_bad_to_bad_folder('train', bad_img_nums, 'bad_train')"
   ]
  },
  {
   "cell_type": "code",
   "execution_count": 46,
   "metadata": {},
   "outputs": [
    {
     "name": "stdout",
     "output_type": "stream",
     "text": [
      "c7/img_68040.jpg\n",
      "c7/img_75819.jpg\n",
      "c9/img_99733.jpg\n",
      "c1/img_54867.jpg\n",
      "c5/img_8131.jpg\n",
      "5 items successfully moved from / valid folder to: ../ bad_valid\n"
     ]
    }
   ],
   "source": [
    "move_bad_to_bad_folder('valid', bad_img_nums, 'bad_valid')"
   ]
  },
  {
   "cell_type": "markdown",
   "metadata": {},
   "source": [
    "#### Now prepare the Filenames and Labels Arrays"
   ]
  },
  {
   "cell_type": "code",
   "execution_count": 47,
   "metadata": {},
   "outputs": [
    {
     "name": "stdout",
     "output_type": "stream",
     "text": [
      "Found 32821 images belonging to 10 classes.\n",
      "Found 3827 images belonging to 10 classes.\n",
      "Found 45758 images belonging to 1 classes.\n"
     ]
    }
   ],
   "source": [
    "(val_classes, trn_classes, val_labels, trn_labels, \n",
    "    val_filenames, filenames, test_filenames) = get_classes(DATA_HOME_DIR)"
   ]
  },
  {
   "cell_type": "code",
   "execution_count": 48,
   "metadata": {},
   "outputs": [],
   "source": [
    "trn_image_nums = np.array([vfile[7:][:-4] for vfile in filenames])\n"
   ]
  },
  {
   "cell_type": "code",
   "execution_count": 49,
   "metadata": {},
   "outputs": [
    {
     "data": {
      "text/plain": [
       "(32821,)"
      ]
     },
     "execution_count": 49,
     "metadata": {},
     "output_type": "execute_result"
    }
   ],
   "source": [
    "#List of training image numbers:\n",
    "trn_image_nums.shape"
   ]
  },
  {
   "cell_type": "markdown",
   "metadata": {},
   "source": [
    "# 2. Create a Sequential Vgg Model with frozen Conv Layers"
   ]
  },
  {
   "cell_type": "markdown",
   "metadata": {},
   "source": [
    "### 1. Add fc_bn layers, and train only the final layer"
   ]
  },
  {
   "cell_type": "markdown",
   "metadata": {},
   "source": [
    "Import the fully trained Vgg16bn network from Imagenet"
   ]
  },
  {
   "cell_type": "code",
   "execution_count": 50,
   "metadata": {},
   "outputs": [],
   "source": [
    "vgg = Dave16()\n",
    "model = vgg.model\n",
    "last_conv_idx = [i for i,l in enumerate(model.layers) if type(l) is Convolution2D][-1]\n",
    "conv_layers = model.layers[:last_conv_idx+1]"
   ]
  },
  {
   "cell_type": "markdown",
   "metadata": {},
   "source": [
    "Make it so that the convoluted layers are not trainable"
   ]
  },
  {
   "cell_type": "code",
   "execution_count": 52,
   "metadata": {},
   "outputs": [
    {
     "name": "stdout",
     "output_type": "stream",
     "text": [
      "31 layers are frozen\n"
     ]
    }
   ],
   "source": [
    "count_frozen = 0\n",
    "for layer in conv_layers:\n",
    "    layer.trainable = False\n",
    "    if layer.trainable == False: count_frozen+=1\n",
    "print(count_frozen,\"layers are frozen\")    "
   ]
  },
  {
   "cell_type": "markdown",
   "metadata": {},
   "source": [
    "Create a sequential model of the convolutional layers"
   ]
  },
  {
   "cell_type": "code",
   "execution_count": 53,
   "metadata": {},
   "outputs": [],
   "source": [
    "conv_model = Sequential(conv_layers)"
   ]
  },
  {
   "cell_type": "markdown",
   "metadata": {},
   "source": [
    "#### Add fully connected layers and initial weights from previous training"
   ]
  },
  {
   "cell_type": "markdown",
   "metadata": {},
   "source": [
    "Firstly, import pretrained fully connected model"
   ]
  },
  {
   "cell_type": "code",
   "execution_count": 54,
   "metadata": {},
   "outputs": [],
   "source": [
    "top_hat_model = read_model(4, cross='old') "
   ]
  },
  {
   "cell_type": "code",
   "execution_count": 55,
   "metadata": {},
   "outputs": [],
   "source": [
    "p=0.5\n",
    "def add_bn_layers(p, model):\n",
    "    new_model = model\n",
    "    new_model.add(MaxPooling2D(input_shape=conv_layers[-1].output_shape[1:]))\n",
    "    new_model.add(Flatten())\n",
    "    new_model.add(Dropout(p/2))\n",
    "    new_model.add(Dense(128, activation='relu'))\n",
    "    #new_model.layers[len(new_model.layers)].set_weights(top.layers[3].get_weights())\n",
    "    new_model.add(BatchNormalization())\n",
    "    new_model.add(Dropout(p/2))\n",
    "    new_model.add(Dense(128, activation='relu'))\n",
    "    #new_model.layers[len(new_model.layers)].set_weights(top.layers[6].get_weights())\n",
    "    new_model.add(BatchNormalization())\n",
    "    new_model.add(Dropout(p))\n",
    "    new_model.add(Dense(10, activation='softmax'))  \n",
    "    #new_model.layers[len(new_model.layers)].set_weights(top.layers[9].get_weights())\n",
    "    return new_model"
   ]
  },
  {
   "cell_type": "code",
   "execution_count": 56,
   "metadata": {},
   "outputs": [],
   "source": [
    "full_model = add_bn_layers(0.8, conv_model)"
   ]
  },
  {
   "cell_type": "markdown",
   "metadata": {},
   "source": [
    "Now initialise the weights of the dense layers by copying from the previously trained fc_bn model"
   ]
  },
  {
   "cell_type": "code",
   "execution_count": 57,
   "metadata": {},
   "outputs": [],
   "source": [
    "full_model.layers[last_conv_idx+3+1].set_weights(top_hat_model.layers[3].get_weights())\n",
    "full_model.layers[last_conv_idx+6+1].set_weights(top_hat_model.layers[6].get_weights())\n",
    "full_model.layers[last_conv_idx+9+1].set_weights(top_hat_model.layers[9].get_weights())"
   ]
  },
  {
   "cell_type": "code",
   "execution_count": 58,
   "metadata": {},
   "outputs": [],
   "source": [
    "full_model.compile(Adam(lr=0.001), loss='categorical_crossentropy', metrics=['accuracy'])"
   ]
  },
  {
   "cell_type": "code",
   "execution_count": 59,
   "metadata": {},
   "outputs": [
    {
     "data": {
      "text/plain": [
       "41"
      ]
     },
     "execution_count": 59,
     "metadata": {},
     "output_type": "execute_result"
    }
   ],
   "source": [
    "len(full_model.layers)"
   ]
  },
  {
   "cell_type": "markdown",
   "metadata": {},
   "source": [
    "# Train the Model - including use of 14k pseudo label test cases"
   ]
  },
  {
   "cell_type": "markdown",
   "metadata": {},
   "source": [
    "Use ImageGenerator because there are too many training images to store (resized) in an array.\n",
    "1. Not using data augmentation at this stage.\n",
    "2. Not using validation data for training at this stage."
   ]
  },
  {
   "cell_type": "markdown",
   "metadata": {},
   "source": [
    "n.b. Mixiterator was not used.  Only test data having a prediction probability >0.995 has been used.\n",
    "This data is considered to be of such good quality that it can be mixed with real data. The pseudo training data will make up 43% of the training data at this stage (39% after validation data is added). Yes, it's a little high, but lets see how it goes.. "
   ]
  },
  {
   "cell_type": "markdown",
   "metadata": {},
   "source": [
    "Create the image generator (no augmentation)"
   ]
  },
  {
   "cell_type": "code",
   "execution_count": 61,
   "metadata": {},
   "outputs": [],
   "source": [
    "gen = ImageDataGenerator()"
   ]
  },
  {
   "cell_type": "code",
   "execution_count": 65,
   "metadata": {},
   "outputs": [
    {
     "name": "stdout",
     "output_type": "stream",
     "text": [
      "Found 32821 images belonging to 10 classes.\n"
     ]
    }
   ],
   "source": [
    "generator = gen.flow_from_directory(\n",
    "        'train',\n",
    "        target_size=(224, 224),\n",
    "        batch_size=64,\n",
    "        class_mode='categorical',\n",
    "        shuffle=True)"
   ]
  },
  {
   "cell_type": "code",
   "execution_count": 66,
   "metadata": {},
   "outputs": [
    {
     "name": "stdout",
     "output_type": "stream",
     "text": [
      "Found 3827 images belonging to 10 classes.\n"
     ]
    },
    {
     "data": {
      "text/plain": [
       "3827"
      ]
     },
     "execution_count": 66,
     "metadata": {},
     "output_type": "execute_result"
    }
   ],
   "source": [
    "val_generator = gen.flow_from_directory(\n",
    "        'valid',\n",
    "        target_size=(224, 224),\n",
    "        batch_size=64,\n",
    "        class_mode='categorical',\n",
    "        shuffle=True)\n",
    "val_generator.N"
   ]
  },
  {
   "cell_type": "code",
   "execution_count": 64,
   "metadata": {},
   "outputs": [
    {
     "data": {
      "text/plain": [
       "32821"
      ]
     },
     "execution_count": 64,
     "metadata": {},
     "output_type": "execute_result"
    }
   ],
   "source": [
    "generator.N"
   ]
  },
  {
   "cell_type": "code",
   "execution_count": 68,
   "metadata": {
    "scrolled": true
   },
   "outputs": [
    {
     "name": "stdout",
     "output_type": "stream",
     "text": [
      "Epoch 1/2\n",
      "32821/32821 [==============================] - 870s - loss: 0.1056 - acc: 0.9654 - val_loss: 1.0931 - val_acc: 0.7334\n",
      "Epoch 2/2\n",
      "32821/32821 [==============================] - 872s - loss: 0.0473 - acc: 0.9853 - val_loss: 0.7631 - val_acc: 0.8291\n"
     ]
    },
    {
     "data": {
      "text/plain": [
       "<keras.callbacks.History at 0x7f91c99d3c90>"
      ]
     },
     "execution_count": 68,
     "metadata": {},
     "output_type": "execute_result"
    }
   ],
   "source": [
    "full_model.fit_generator(\n",
    "        generator,\n",
    "        samples_per_epoch=generator.N,\n",
    "        nb_epoch=2,\n",
    "        validation_data=val_generator,\n",
    "        nb_val_samples=1000)"
   ]
  },
  {
   "cell_type": "code",
   "execution_count": 69,
   "metadata": {},
   "outputs": [
    {
     "name": "stdout",
     "output_type": "stream",
     "text": [
      "Epoch 1/2\n",
      "32821/32821 [==============================] - 924s - loss: 0.0373 - acc: 0.9884 - val_loss: 0.8449 - val_acc: 0.8303\n",
      "Epoch 2/2\n",
      "32821/32821 [==============================] - 924s - loss: 0.0284 - acc: 0.9915 - val_loss: 0.9337 - val_acc: 0.8182\n"
     ]
    },
    {
     "data": {
      "text/plain": [
       "<keras.callbacks.History at 0x7f91c6035150>"
      ]
     },
     "execution_count": 69,
     "metadata": {},
     "output_type": "execute_result"
    }
   ],
   "source": [
    "full_model.fit_generator(\n",
    "        generator,\n",
    "        samples_per_epoch=generator.N,\n",
    "        nb_epoch=2,\n",
    "        validation_data=val_generator,\n",
    "        nb_val_samples=3000)"
   ]
  },
  {
   "cell_type": "code",
   "execution_count": 71,
   "metadata": {},
   "outputs": [
    {
     "name": "stdout",
     "output_type": "stream",
     "text": [
      "Epoch 1/1\n",
      "32821/32821 [==============================] - 944s - loss: 0.0228 - acc: 0.9930 - val_loss: 1.0425 - val_acc: 0.7993\n"
     ]
    },
    {
     "data": {
      "text/plain": [
       "<keras.callbacks.History at 0x7f91c6035250>"
      ]
     },
     "execution_count": 71,
     "metadata": {},
     "output_type": "execute_result"
    }
   ],
   "source": [
    "full_model.optimizer.lr=0.01\n",
    "full_model.fit_generator(\n",
    "        generator,\n",
    "        samples_per_epoch=generator.N,\n",
    "        nb_epoch=1,\n",
    "        validation_data=val_generator,\n",
    "        nb_val_samples=val_generator.N)"
   ]
  },
  {
   "cell_type": "markdown",
   "metadata": {},
   "source": [
    "## Adding Data Augmentation"
   ]
  },
  {
   "cell_type": "code",
   "execution_count": 72,
   "metadata": {
    "scrolled": true
   },
   "outputs": [
    {
     "name": "stdout",
     "output_type": "stream",
     "text": [
      "Found 32821 images belonging to 10 classes.\n",
      "Epoch 1/1\n",
      " 99999/100000 [============================>.] - ETA: 0s - loss: 0.1497 - acc: 0.9569"
     ]
    },
    {
     "name": "stderr",
     "output_type": "stream",
     "text": [
      "/home/ubuntu/anaconda2/lib/python2.7/site-packages/keras/engine/training.py:1462: UserWarning: Epoch comprised more than `samples_per_epoch` samples, which might affect learning results. Set `samples_per_epoch` correctly to avoid this warning.\n",
      "  warnings.warn('Epoch comprised more than '\n"
     ]
    },
    {
     "name": "stdout",
     "output_type": "stream",
     "text": [
      "100063/100000 [==============================] - 2679s - loss: 0.1497 - acc: 0.9569 - val_loss: 0.8665 - val_acc: 0.8048\n"
     ]
    },
    {
     "data": {
      "text/plain": [
       "<keras.callbacks.History at 0x7f91c99d3f90>"
      ]
     },
     "execution_count": 72,
     "metadata": {},
     "output_type": "execute_result"
    }
   ],
   "source": [
    "dgen = ImageDataGenerator(  rotation_range=5,\n",
    "                            width_shift_range=0.1,\n",
    "                            height_shift_range=0.05,\n",
    "                            channel_shift_range = 20\n",
    "                         )\n",
    "tgenerator = dgen.flow_from_directory(\n",
    "        'train',\n",
    "        target_size=(224, 224),\n",
    "        batch_size=64,\n",
    "        class_mode='categorical',\n",
    "        shuffle=True)\n",
    "full_model.optimizer.lr=0.01\n",
    "full_model.fit_generator(\n",
    "        tgenerator,\n",
    "        samples_per_epoch=100000,\n",
    "        nb_epoch=1,\n",
    "        validation_data=val_generator,\n",
    "        nb_val_samples=val_generator.N)"
   ]
  },
  {
   "cell_type": "code",
   "execution_count": 86,
   "metadata": {},
   "outputs": [],
   "source": [
    "save_model(full_model, 1, cross='vgg_minus_val')"
   ]
  },
  {
   "cell_type": "code",
   "execution_count": 103,
   "metadata": {},
   "outputs": [
    {
     "name": "stdout",
     "output_type": "stream",
     "text": [
      "Epoch 1/1\n",
      "100063/100000 [==============================] - 2681s - loss: 0.0740 - acc: 0.9781 - val_loss: 0.8735 - val_acc: 0.8247\n"
     ]
    },
    {
     "data": {
      "text/plain": [
       "<keras.callbacks.History at 0x7f915db8e710>"
      ]
     },
     "execution_count": 103,
     "metadata": {},
     "output_type": "execute_result"
    }
   ],
   "source": [
    "full_model.optimizer.lr=0.005\n",
    "full_model.fit_generator(\n",
    "        tgenerator,\n",
    "        samples_per_epoch=100000,\n",
    "        nb_epoch=1,\n",
    "        validation_data=val_generator,\n",
    "        nb_val_samples=val_generator.N)"
   ]
  },
  {
   "cell_type": "code",
   "execution_count": 104,
   "metadata": {},
   "outputs": [],
   "source": [
    "save_model(full_model, 2, cross='vgg_minus_val')"
   ]
  },
  {
   "cell_type": "code",
   "execution_count": 105,
   "metadata": {},
   "outputs": [
    {
     "name": "stdout",
     "output_type": "stream",
     "text": [
      "Epoch 1/1\n",
      "100063/100000 [==============================] - 2683s - loss: 0.0623 - acc: 0.9819 - val_loss: 0.8635 - val_acc: 0.8116\n"
     ]
    },
    {
     "data": {
      "text/plain": [
       "<keras.callbacks.History at 0x7f915db93d10>"
      ]
     },
     "execution_count": 105,
     "metadata": {},
     "output_type": "execute_result"
    }
   ],
   "source": [
    "full_model.optimizer.lr=0.005\n",
    "full_model.fit_generator(\n",
    "        tgenerator,\n",
    "        samples_per_epoch=100000,\n",
    "        nb_epoch=1,\n",
    "        validation_data=val_generator,\n",
    "        nb_val_samples=val_generator.N)"
   ]
  },
  {
   "cell_type": "code",
   "execution_count": null,
   "metadata": {},
   "outputs": [],
   "source": [
    "save_model(full_model, 3, cross='vgg_minus_val')"
   ]
  },
  {
   "cell_type": "markdown",
   "metadata": {},
   "source": [
    "## Try Inception v3"
   ]
  },
  {
   "cell_type": "code",
   "execution_count": 73,
   "metadata": {
    "scrolled": true
   },
   "outputs": [
    {
     "name": "stdout",
     "output_type": "stream",
     "text": [
      "Downloading data from https://github.com/fchollet/deep-learning-models/releases/download/v0.2/inception_v3_weights_th_dim_ordering_th_kernels_notop.h5\n",
      "86917120/86916664 [==============================] - 6s     \n",
      "th\n",
      "Epoch 1/1\n",
      "32821/32821 [==============================] - 484s - loss: 0.8416 - val_loss: 1.8106\n"
     ]
    },
    {
     "data": {
      "text/plain": [
       "<keras.callbacks.History at 0x7f918ee70950>"
      ]
     },
     "execution_count": 73,
     "metadata": {},
     "output_type": "execute_result"
    }
   ],
   "source": [
    "from keras.applications.inception_v3 import InceptionV3\n",
    "# create the base pre-trained model\n",
    "#input_tensor = Input(shape=(3,224, 224))  # this assumes K.image_dim_ordering() == 'tf'\n",
    "#base_model = InceptionV3(weights='imagenet',input_shape=(3,244,244) include_top=False)\n",
    "base_model = InceptionV3(weights='imagenet', include_top=False)\n",
    "# add a global spatial average pooling layer\n",
    "x = base_model.output\n",
    "x = GlobalAveragePooling2D()(x)\n",
    "# let's add a fully-connected layer\n",
    "x = Dense(1024, activation='relu')(x)\n",
    "# and a logistic layer -- let's say we have 200 classes\n",
    "predictions = Dense(10, activation='softmax')(x)\n",
    "\n",
    "# this is the model we will train\n",
    "model = Model(input=base_model.input, output=predictions)\n",
    "\n",
    "# first: train only the top layers (which were randomly initialized)\n",
    "# i.e. freeze all convolutional InceptionV3 layers\n",
    "for layer in base_model.layers:\n",
    "    layer.trainable = False\n",
    "\n",
    "# compile the model (should be done *after* setting layers to non-trainable)\n",
    "model.compile(optimizer='rmsprop', loss='categorical_crossentropy')\n",
    "\n",
    "# train the model on the new data for a few epochs\n",
    "model.fit_generator(\n",
    "        tgenerator,\n",
    "        samples_per_epoch=tgenerator.N,\n",
    "        nb_epoch=1,\n",
    "        validation_data=val_generator,\n",
    "        nb_val_samples=val_generator.N)"
   ]
  },
  {
   "cell_type": "code",
   "execution_count": 78,
   "metadata": {},
   "outputs": [],
   "source": [
    "from keras.optimizers import SGD\n",
    "model.compile(optimizer=SGD(lr=0.01, momentum=0.9), loss='categorical_crossentropy', metrics=['accuracy'])"
   ]
  },
  {
   "cell_type": "code",
   "execution_count": 79,
   "metadata": {},
   "outputs": [
    {
     "name": "stdout",
     "output_type": "stream",
     "text": [
      "Epoch 1/1\n",
      "32821/32821 [==============================] - 484s - loss: 0.4395 - acc: 0.8544 - val_loss: 1.6566 - val_acc: 0.5579\n"
     ]
    }
   ],
   "source": [
    "history = model.fit_generator(\n",
    "        tgenerator,\n",
    "        samples_per_epoch=tgenerator.N,\n",
    "        nb_epoch=1,\n",
    "        validation_data=val_generator,\n",
    "        nb_val_samples=val_generator.N)"
   ]
  },
  {
   "cell_type": "code",
   "execution_count": 80,
   "metadata": {
    "collapsed": true
   },
   "outputs": [
    {
     "name": "stdout",
     "output_type": "stream",
     "text": [
      "0 input_1\n",
      "1 convolution2d_14\n",
      "2 batchnormalization_5\n",
      "3 convolution2d_15\n",
      "4 batchnormalization_6\n",
      "5 convolution2d_16\n",
      "6 batchnormalization_7\n",
      "7 maxpooling2d_7\n",
      "8 convolution2d_17\n",
      "9 batchnormalization_8\n",
      "10 convolution2d_18\n",
      "11 batchnormalization_9\n",
      "12 maxpooling2d_8\n",
      "13 convolution2d_22\n",
      "14 batchnormalization_13\n",
      "15 convolution2d_20\n",
      "16 convolution2d_23\n",
      "17 batchnormalization_11\n",
      "18 batchnormalization_14\n",
      "19 averagepooling2d_1\n",
      "20 convolution2d_19\n",
      "21 convolution2d_21\n",
      "22 convolution2d_24\n",
      "23 convolution2d_25\n",
      "24 batchnormalization_10\n",
      "25 batchnormalization_12\n",
      "26 batchnormalization_15\n",
      "27 batchnormalization_16\n",
      "28 mixed0\n",
      "29 convolution2d_29\n",
      "30 batchnormalization_20\n",
      "31 convolution2d_27\n",
      "32 convolution2d_30\n",
      "33 batchnormalization_18\n",
      "34 batchnormalization_21\n",
      "35 averagepooling2d_2\n",
      "36 convolution2d_26\n",
      "37 convolution2d_28\n",
      "38 convolution2d_31\n",
      "39 convolution2d_32\n",
      "40 batchnormalization_17\n",
      "41 batchnormalization_19\n",
      "42 batchnormalization_22\n",
      "43 batchnormalization_23\n",
      "44 mixed1\n",
      "45 convolution2d_36\n",
      "46 batchnormalization_27\n",
      "47 convolution2d_34\n",
      "48 convolution2d_37\n",
      "49 batchnormalization_25\n",
      "50 batchnormalization_28\n",
      "51 averagepooling2d_3\n",
      "52 convolution2d_33\n",
      "53 convolution2d_35\n",
      "54 convolution2d_38\n",
      "55 convolution2d_39\n",
      "56 batchnormalization_24\n",
      "57 batchnormalization_26\n",
      "58 batchnormalization_29\n",
      "59 batchnormalization_30\n",
      "60 mixed2\n",
      "61 convolution2d_41\n",
      "62 batchnormalization_32\n",
      "63 convolution2d_42\n",
      "64 batchnormalization_33\n",
      "65 convolution2d_40\n",
      "66 convolution2d_43\n",
      "67 batchnormalization_31\n",
      "68 batchnormalization_34\n",
      "69 maxpooling2d_9\n",
      "70 mixed3\n",
      "71 convolution2d_48\n",
      "72 batchnormalization_39\n",
      "73 convolution2d_49\n",
      "74 batchnormalization_40\n",
      "75 convolution2d_45\n",
      "76 convolution2d_50\n",
      "77 batchnormalization_36\n",
      "78 batchnormalization_41\n",
      "79 convolution2d_46\n",
      "80 convolution2d_51\n",
      "81 batchnormalization_37\n",
      "82 batchnormalization_42\n",
      "83 averagepooling2d_4\n",
      "84 convolution2d_44\n",
      "85 convolution2d_47\n",
      "86 convolution2d_52\n",
      "87 convolution2d_53\n",
      "88 batchnormalization_35\n",
      "89 batchnormalization_38\n",
      "90 batchnormalization_43\n",
      "91 batchnormalization_44\n",
      "92 mixed4\n",
      "93 convolution2d_58\n",
      "94 batchnormalization_49\n",
      "95 convolution2d_59\n",
      "96 batchnormalization_50\n",
      "97 convolution2d_55\n",
      "98 convolution2d_60\n",
      "99 batchnormalization_46\n",
      "100 batchnormalization_51\n",
      "101 convolution2d_56\n",
      "102 convolution2d_61\n",
      "103 batchnormalization_47\n",
      "104 batchnormalization_52\n",
      "105 averagepooling2d_5\n",
      "106 convolution2d_54\n",
      "107 convolution2d_57\n",
      "108 convolution2d_62\n",
      "109 convolution2d_63\n",
      "110 batchnormalization_45\n",
      "111 batchnormalization_48\n",
      "112 batchnormalization_53\n",
      "113 batchnormalization_54\n",
      "114 mixed5\n",
      "115 convolution2d_68\n",
      "116 batchnormalization_59\n",
      "117 convolution2d_69\n",
      "118 batchnormalization_60\n",
      "119 convolution2d_65\n",
      "120 convolution2d_70\n",
      "121 batchnormalization_56\n",
      "122 batchnormalization_61\n",
      "123 convolution2d_66\n",
      "124 convolution2d_71\n",
      "125 batchnormalization_57\n",
      "126 batchnormalization_62\n",
      "127 averagepooling2d_6\n",
      "128 convolution2d_64\n",
      "129 convolution2d_67\n",
      "130 convolution2d_72\n",
      "131 convolution2d_73\n",
      "132 batchnormalization_55\n",
      "133 batchnormalization_58\n",
      "134 batchnormalization_63\n",
      "135 batchnormalization_64\n",
      "136 mixed6\n",
      "137 convolution2d_78\n",
      "138 batchnormalization_69\n",
      "139 convolution2d_79\n",
      "140 batchnormalization_70\n",
      "141 convolution2d_75\n",
      "142 convolution2d_80\n",
      "143 batchnormalization_66\n",
      "144 batchnormalization_71\n",
      "145 convolution2d_76\n",
      "146 convolution2d_81\n",
      "147 batchnormalization_67\n",
      "148 batchnormalization_72\n",
      "149 averagepooling2d_7\n",
      "150 convolution2d_74\n",
      "151 convolution2d_77\n",
      "152 convolution2d_82\n",
      "153 convolution2d_83\n",
      "154 batchnormalization_65\n",
      "155 batchnormalization_68\n",
      "156 batchnormalization_73\n",
      "157 batchnormalization_74\n",
      "158 mixed7\n",
      "159 convolution2d_86\n",
      "160 batchnormalization_77\n",
      "161 convolution2d_87\n",
      "162 batchnormalization_78\n",
      "163 convolution2d_84\n",
      "164 convolution2d_88\n",
      "165 batchnormalization_75\n",
      "166 batchnormalization_79\n",
      "167 convolution2d_85\n",
      "168 convolution2d_89\n",
      "169 batchnormalization_76\n",
      "170 batchnormalization_80\n",
      "171 averagepooling2d_8\n",
      "172 mixed8\n",
      "173 convolution2d_94\n",
      "174 batchnormalization_85\n",
      "175 convolution2d_91\n",
      "176 convolution2d_95\n",
      "177 batchnormalization_82\n",
      "178 batchnormalization_86\n",
      "179 convolution2d_92\n",
      "180 convolution2d_93\n",
      "181 convolution2d_96\n",
      "182 convolution2d_97\n",
      "183 averagepooling2d_9\n",
      "184 convolution2d_90\n",
      "185 batchnormalization_83\n",
      "186 batchnormalization_84\n",
      "187 batchnormalization_87\n",
      "188 batchnormalization_88\n",
      "189 convolution2d_98\n",
      "190 batchnormalization_81\n",
      "191 mixed9_0\n",
      "192 merge_1\n",
      "193 batchnormalization_89\n",
      "194 mixed9\n",
      "195 convolution2d_103\n",
      "196 batchnormalization_94\n",
      "197 convolution2d_100\n",
      "198 convolution2d_104\n",
      "199 batchnormalization_91\n",
      "200 batchnormalization_95\n",
      "201 convolution2d_101\n",
      "202 convolution2d_102\n",
      "203 convolution2d_105\n",
      "204 convolution2d_106\n",
      "205 averagepooling2d_10\n",
      "206 convolution2d_99\n",
      "207 batchnormalization_92\n",
      "208 batchnormalization_93\n",
      "209 batchnormalization_96\n",
      "210 batchnormalization_97\n",
      "211 convolution2d_107\n",
      "212 batchnormalization_90\n",
      "213 mixed9_1\n",
      "214 merge_2\n",
      "215 batchnormalization_98\n",
      "216 mixed10\n"
     ]
    }
   ],
   "source": [
    "# at this point, the top layers are well trained and we can start fine-tuning\n",
    "# convolutional layers from inception V3. We will freeze the bottom N layers\n",
    "# and train the remaining top layers.\n",
    "\n",
    "# let's visualize layer names and layer indices to see how many layers\n",
    "# we should freeze:\n",
    "for i, layer in enumerate(base_model.layers):\n",
    "    print(i, layer.name)"
   ]
  },
  {
   "cell_type": "code",
   "execution_count": 81,
   "metadata": {
    "collapsed": true
   },
   "outputs": [
    {
     "name": "stdout",
     "output_type": "stream",
     "text": [
      "____________________________________________________________________________________________________\n",
      "Layer (type)                     Output Shape          Param #     Connected to                     \n",
      "====================================================================================================\n",
      "input_1 (InputLayer)             (None, 3, None, None) 0                                            \n",
      "____________________________________________________________________________________________________\n",
      "convolution2d_14 (Convolution2D) (None, 32, None, None)0           input_1[0][0]                    \n",
      "____________________________________________________________________________________________________\n",
      "batchnormalization_5 (BatchNormal(None, 32, None, None)0           convolution2d_14[0][0]           \n",
      "____________________________________________________________________________________________________\n",
      "convolution2d_15 (Convolution2D) (None, 32, None, None)0           batchnormalization_5[0][0]       \n",
      "____________________________________________________________________________________________________\n",
      "batchnormalization_6 (BatchNormal(None, 32, None, None)0           convolution2d_15[0][0]           \n",
      "____________________________________________________________________________________________________\n",
      "convolution2d_16 (Convolution2D) (None, 64, None, None)0           batchnormalization_6[0][0]       \n",
      "____________________________________________________________________________________________________\n",
      "batchnormalization_7 (BatchNormal(None, 64, None, None)0           convolution2d_16[0][0]           \n",
      "____________________________________________________________________________________________________\n",
      "maxpooling2d_7 (MaxPooling2D)    (None, 64, None, None)0           batchnormalization_7[0][0]       \n",
      "____________________________________________________________________________________________________\n",
      "convolution2d_17 (Convolution2D) (None, 80, None, None)0           maxpooling2d_7[0][0]             \n",
      "____________________________________________________________________________________________________\n",
      "batchnormalization_8 (BatchNormal(None, 80, None, None)0           convolution2d_17[0][0]           \n",
      "____________________________________________________________________________________________________\n",
      "convolution2d_18 (Convolution2D) (None, 192, None, None0           batchnormalization_8[0][0]       \n",
      "____________________________________________________________________________________________________\n",
      "batchnormalization_9 (BatchNormal(None, 192, None, None0           convolution2d_18[0][0]           \n",
      "____________________________________________________________________________________________________\n",
      "maxpooling2d_8 (MaxPooling2D)    (None, 192, None, None0           batchnormalization_9[0][0]       \n",
      "____________________________________________________________________________________________________\n",
      "convolution2d_22 (Convolution2D) (None, 64, None, None)0           maxpooling2d_8[0][0]             \n",
      "____________________________________________________________________________________________________\n",
      "batchnormalization_13 (BatchNorma(None, 64, None, None)0           convolution2d_22[0][0]           \n",
      "____________________________________________________________________________________________________\n",
      "convolution2d_20 (Convolution2D) (None, 48, None, None)0           maxpooling2d_8[0][0]             \n",
      "____________________________________________________________________________________________________\n",
      "convolution2d_23 (Convolution2D) (None, 96, None, None)0           batchnormalization_13[0][0]      \n",
      "____________________________________________________________________________________________________\n",
      "batchnormalization_11 (BatchNorma(None, 48, None, None)0           convolution2d_20[0][0]           \n",
      "____________________________________________________________________________________________________\n",
      "batchnormalization_14 (BatchNorma(None, 96, None, None)0           convolution2d_23[0][0]           \n",
      "____________________________________________________________________________________________________\n",
      "averagepooling2d_1 (AveragePoolin(None, 192, None, None0           maxpooling2d_8[0][0]             \n",
      "____________________________________________________________________________________________________\n",
      "convolution2d_19 (Convolution2D) (None, 64, None, None)0           maxpooling2d_8[0][0]             \n",
      "____________________________________________________________________________________________________\n",
      "convolution2d_21 (Convolution2D) (None, 64, None, None)0           batchnormalization_11[0][0]      \n",
      "____________________________________________________________________________________________________\n",
      "convolution2d_24 (Convolution2D) (None, 96, None, None)0           batchnormalization_14[0][0]      \n",
      "____________________________________________________________________________________________________\n",
      "convolution2d_25 (Convolution2D) (None, 32, None, None)0           averagepooling2d_1[0][0]         \n",
      "____________________________________________________________________________________________________\n",
      "batchnormalization_10 (BatchNorma(None, 64, None, None)0           convolution2d_19[0][0]           \n",
      "____________________________________________________________________________________________________\n",
      "batchnormalization_12 (BatchNorma(None, 64, None, None)0           convolution2d_21[0][0]           \n",
      "____________________________________________________________________________________________________\n",
      "batchnormalization_15 (BatchNorma(None, 96, None, None)0           convolution2d_24[0][0]           \n",
      "____________________________________________________________________________________________________\n",
      "batchnormalization_16 (BatchNorma(None, 32, None, None)0           convolution2d_25[0][0]           \n",
      "____________________________________________________________________________________________________\n",
      "mixed0 (Merge)                   (None, 256, None, None0           batchnormalization_10[0][0]      \n",
      "                                                                   batchnormalization_12[0][0]      \n",
      "                                                                   batchnormalization_15[0][0]      \n",
      "                                                                   batchnormalization_16[0][0]      \n",
      "____________________________________________________________________________________________________\n",
      "convolution2d_29 (Convolution2D) (None, 64, None, None)0           mixed0[0][0]                     \n",
      "____________________________________________________________________________________________________\n",
      "batchnormalization_20 (BatchNorma(None, 64, None, None)0           convolution2d_29[0][0]           \n",
      "____________________________________________________________________________________________________\n",
      "convolution2d_27 (Convolution2D) (None, 48, None, None)0           mixed0[0][0]                     \n",
      "____________________________________________________________________________________________________\n",
      "convolution2d_30 (Convolution2D) (None, 96, None, None)0           batchnormalization_20[0][0]      \n",
      "____________________________________________________________________________________________________\n",
      "batchnormalization_18 (BatchNorma(None, 48, None, None)0           convolution2d_27[0][0]           \n",
      "____________________________________________________________________________________________________\n",
      "batchnormalization_21 (BatchNorma(None, 96, None, None)0           convolution2d_30[0][0]           \n",
      "____________________________________________________________________________________________________\n",
      "averagepooling2d_2 (AveragePoolin(None, 256, None, None0           mixed0[0][0]                     \n",
      "____________________________________________________________________________________________________\n",
      "convolution2d_26 (Convolution2D) (None, 64, None, None)0           mixed0[0][0]                     \n",
      "____________________________________________________________________________________________________\n",
      "convolution2d_28 (Convolution2D) (None, 64, None, None)0           batchnormalization_18[0][0]      \n",
      "____________________________________________________________________________________________________\n",
      "convolution2d_31 (Convolution2D) (None, 96, None, None)0           batchnormalization_21[0][0]      \n",
      "____________________________________________________________________________________________________\n",
      "convolution2d_32 (Convolution2D) (None, 32, None, None)0           averagepooling2d_2[0][0]         \n",
      "____________________________________________________________________________________________________\n",
      "batchnormalization_17 (BatchNorma(None, 64, None, None)0           convolution2d_26[0][0]           \n",
      "____________________________________________________________________________________________________\n",
      "batchnormalization_19 (BatchNorma(None, 64, None, None)0           convolution2d_28[0][0]           \n",
      "____________________________________________________________________________________________________\n",
      "batchnormalization_22 (BatchNorma(None, 96, None, None)0           convolution2d_31[0][0]           \n",
      "____________________________________________________________________________________________________\n",
      "batchnormalization_23 (BatchNorma(None, 32, None, None)0           convolution2d_32[0][0]           \n",
      "____________________________________________________________________________________________________\n",
      "mixed1 (Merge)                   (None, 256, None, None0           batchnormalization_17[0][0]      \n",
      "                                                                   batchnormalization_19[0][0]      \n",
      "                                                                   batchnormalization_22[0][0]      \n",
      "                                                                   batchnormalization_23[0][0]      \n",
      "____________________________________________________________________________________________________\n",
      "convolution2d_36 (Convolution2D) (None, 64, None, None)0           mixed1[0][0]                     \n",
      "____________________________________________________________________________________________________\n",
      "batchnormalization_27 (BatchNorma(None, 64, None, None)0           convolution2d_36[0][0]           \n",
      "____________________________________________________________________________________________________\n",
      "convolution2d_34 (Convolution2D) (None, 48, None, None)0           mixed1[0][0]                     \n",
      "____________________________________________________________________________________________________\n",
      "convolution2d_37 (Convolution2D) (None, 96, None, None)0           batchnormalization_27[0][0]      \n",
      "____________________________________________________________________________________________________\n",
      "batchnormalization_25 (BatchNorma(None, 48, None, None)0           convolution2d_34[0][0]           \n",
      "____________________________________________________________________________________________________\n",
      "batchnormalization_28 (BatchNorma(None, 96, None, None)0           convolution2d_37[0][0]           \n",
      "____________________________________________________________________________________________________\n",
      "averagepooling2d_3 (AveragePoolin(None, 256, None, None0           mixed1[0][0]                     \n",
      "____________________________________________________________________________________________________\n",
      "convolution2d_33 (Convolution2D) (None, 64, None, None)0           mixed1[0][0]                     \n",
      "____________________________________________________________________________________________________\n",
      "convolution2d_35 (Convolution2D) (None, 64, None, None)0           batchnormalization_25[0][0]      \n",
      "____________________________________________________________________________________________________\n",
      "convolution2d_38 (Convolution2D) (None, 96, None, None)0           batchnormalization_28[0][0]      \n",
      "____________________________________________________________________________________________________\n",
      "convolution2d_39 (Convolution2D) (None, 32, None, None)0           averagepooling2d_3[0][0]         \n",
      "____________________________________________________________________________________________________\n",
      "batchnormalization_24 (BatchNorma(None, 64, None, None)0           convolution2d_33[0][0]           \n",
      "____________________________________________________________________________________________________\n",
      "batchnormalization_26 (BatchNorma(None, 64, None, None)0           convolution2d_35[0][0]           \n",
      "____________________________________________________________________________________________________\n",
      "batchnormalization_29 (BatchNorma(None, 96, None, None)0           convolution2d_38[0][0]           \n",
      "____________________________________________________________________________________________________\n",
      "batchnormalization_30 (BatchNorma(None, 32, None, None)0           convolution2d_39[0][0]           \n",
      "____________________________________________________________________________________________________\n",
      "mixed2 (Merge)                   (None, 256, None, None0           batchnormalization_24[0][0]      \n",
      "                                                                   batchnormalization_26[0][0]      \n",
      "                                                                   batchnormalization_29[0][0]      \n",
      "                                                                   batchnormalization_30[0][0]      \n",
      "____________________________________________________________________________________________________\n",
      "convolution2d_41 (Convolution2D) (None, 64, None, None)0           mixed2[0][0]                     \n",
      "____________________________________________________________________________________________________\n",
      "batchnormalization_32 (BatchNorma(None, 64, None, None)0           convolution2d_41[0][0]           \n",
      "____________________________________________________________________________________________________\n",
      "convolution2d_42 (Convolution2D) (None, 96, None, None)0           batchnormalization_32[0][0]      \n",
      "____________________________________________________________________________________________________\n",
      "batchnormalization_33 (BatchNorma(None, 96, None, None)0           convolution2d_42[0][0]           \n",
      "____________________________________________________________________________________________________\n",
      "convolution2d_40 (Convolution2D) (None, 384, None, None0           mixed2[0][0]                     \n",
      "____________________________________________________________________________________________________\n",
      "convolution2d_43 (Convolution2D) (None, 96, None, None)0           batchnormalization_33[0][0]      \n",
      "____________________________________________________________________________________________________\n",
      "batchnormalization_31 (BatchNorma(None, 384, None, None0           convolution2d_40[0][0]           \n",
      "____________________________________________________________________________________________________\n",
      "batchnormalization_34 (BatchNorma(None, 96, None, None)0           convolution2d_43[0][0]           \n",
      "____________________________________________________________________________________________________\n",
      "maxpooling2d_9 (MaxPooling2D)    (None, 256, None, None0           mixed2[0][0]                     \n",
      "____________________________________________________________________________________________________\n",
      "mixed3 (Merge)                   (None, 736, None, None0           batchnormalization_31[0][0]      \n",
      "                                                                   batchnormalization_34[0][0]      \n",
      "                                                                   maxpooling2d_9[0][0]             \n",
      "____________________________________________________________________________________________________\n",
      "convolution2d_48 (Convolution2D) (None, 128, None, None0           mixed3[0][0]                     \n",
      "____________________________________________________________________________________________________\n",
      "batchnormalization_39 (BatchNorma(None, 128, None, None0           convolution2d_48[0][0]           \n",
      "____________________________________________________________________________________________________\n",
      "convolution2d_49 (Convolution2D) (None, 128, None, None0           batchnormalization_39[0][0]      \n",
      "____________________________________________________________________________________________________\n",
      "batchnormalization_40 (BatchNorma(None, 128, None, None0           convolution2d_49[0][0]           \n",
      "____________________________________________________________________________________________________\n",
      "convolution2d_45 (Convolution2D) (None, 128, None, None0           mixed3[0][0]                     \n",
      "____________________________________________________________________________________________________\n",
      "convolution2d_50 (Convolution2D) (None, 128, None, None0           batchnormalization_40[0][0]      \n",
      "____________________________________________________________________________________________________\n",
      "batchnormalization_36 (BatchNorma(None, 128, None, None0           convolution2d_45[0][0]           \n",
      "____________________________________________________________________________________________________\n",
      "batchnormalization_41 (BatchNorma(None, 128, None, None0           convolution2d_50[0][0]           \n",
      "____________________________________________________________________________________________________\n",
      "convolution2d_46 (Convolution2D) (None, 128, None, None0           batchnormalization_36[0][0]      \n",
      "____________________________________________________________________________________________________\n",
      "convolution2d_51 (Convolution2D) (None, 128, None, None0           batchnormalization_41[0][0]      \n",
      "____________________________________________________________________________________________________\n",
      "batchnormalization_37 (BatchNorma(None, 128, None, None0           convolution2d_46[0][0]           \n",
      "____________________________________________________________________________________________________\n",
      "batchnormalization_42 (BatchNorma(None, 128, None, None0           convolution2d_51[0][0]           \n",
      "____________________________________________________________________________________________________\n",
      "averagepooling2d_4 (AveragePoolin(None, 736, None, None0           mixed3[0][0]                     \n",
      "____________________________________________________________________________________________________\n",
      "convolution2d_44 (Convolution2D) (None, 192, None, None0           mixed3[0][0]                     \n",
      "____________________________________________________________________________________________________\n",
      "convolution2d_47 (Convolution2D) (None, 192, None, None0           batchnormalization_37[0][0]      \n",
      "____________________________________________________________________________________________________\n",
      "convolution2d_52 (Convolution2D) (None, 192, None, None0           batchnormalization_42[0][0]      \n",
      "____________________________________________________________________________________________________\n",
      "convolution2d_53 (Convolution2D) (None, 192, None, None0           averagepooling2d_4[0][0]         \n",
      "____________________________________________________________________________________________________\n",
      "batchnormalization_35 (BatchNorma(None, 192, None, None0           convolution2d_44[0][0]           \n",
      "____________________________________________________________________________________________________\n",
      "batchnormalization_38 (BatchNorma(None, 192, None, None0           convolution2d_47[0][0]           \n",
      "____________________________________________________________________________________________________\n",
      "batchnormalization_43 (BatchNorma(None, 192, None, None0           convolution2d_52[0][0]           \n",
      "____________________________________________________________________________________________________\n",
      "batchnormalization_44 (BatchNorma(None, 192, None, None0           convolution2d_53[0][0]           \n",
      "____________________________________________________________________________________________________\n",
      "mixed4 (Merge)                   (None, 768, None, None0           batchnormalization_35[0][0]      \n",
      "                                                                   batchnormalization_38[0][0]      \n",
      "                                                                   batchnormalization_43[0][0]      \n",
      "                                                                   batchnormalization_44[0][0]      \n",
      "____________________________________________________________________________________________________\n",
      "convolution2d_58 (Convolution2D) (None, 160, None, None0           mixed4[0][0]                     \n",
      "____________________________________________________________________________________________________\n",
      "batchnormalization_49 (BatchNorma(None, 160, None, None0           convolution2d_58[0][0]           \n",
      "____________________________________________________________________________________________________\n",
      "convolution2d_59 (Convolution2D) (None, 160, None, None0           batchnormalization_49[0][0]      \n",
      "____________________________________________________________________________________________________\n",
      "batchnormalization_50 (BatchNorma(None, 160, None, None0           convolution2d_59[0][0]           \n",
      "____________________________________________________________________________________________________\n",
      "convolution2d_55 (Convolution2D) (None, 160, None, None0           mixed4[0][0]                     \n",
      "____________________________________________________________________________________________________\n",
      "convolution2d_60 (Convolution2D) (None, 160, None, None0           batchnormalization_50[0][0]      \n",
      "____________________________________________________________________________________________________\n",
      "batchnormalization_46 (BatchNorma(None, 160, None, None0           convolution2d_55[0][0]           \n",
      "____________________________________________________________________________________________________\n",
      "batchnormalization_51 (BatchNorma(None, 160, None, None0           convolution2d_60[0][0]           \n",
      "____________________________________________________________________________________________________\n",
      "convolution2d_56 (Convolution2D) (None, 160, None, None0           batchnormalization_46[0][0]      \n",
      "____________________________________________________________________________________________________\n",
      "convolution2d_61 (Convolution2D) (None, 160, None, None0           batchnormalization_51[0][0]      \n",
      "____________________________________________________________________________________________________\n",
      "batchnormalization_47 (BatchNorma(None, 160, None, None0           convolution2d_56[0][0]           \n",
      "____________________________________________________________________________________________________\n",
      "batchnormalization_52 (BatchNorma(None, 160, None, None0           convolution2d_61[0][0]           \n",
      "____________________________________________________________________________________________________\n",
      "averagepooling2d_5 (AveragePoolin(None, 768, None, None0           mixed4[0][0]                     \n",
      "____________________________________________________________________________________________________\n",
      "convolution2d_54 (Convolution2D) (None, 192, None, None0           mixed4[0][0]                     \n",
      "____________________________________________________________________________________________________\n",
      "convolution2d_57 (Convolution2D) (None, 192, None, None0           batchnormalization_47[0][0]      \n",
      "____________________________________________________________________________________________________\n",
      "convolution2d_62 (Convolution2D) (None, 192, None, None0           batchnormalization_52[0][0]      \n",
      "____________________________________________________________________________________________________\n",
      "convolution2d_63 (Convolution2D) (None, 192, None, None0           averagepooling2d_5[0][0]         \n",
      "____________________________________________________________________________________________________\n",
      "batchnormalization_45 (BatchNorma(None, 192, None, None0           convolution2d_54[0][0]           \n",
      "____________________________________________________________________________________________________\n",
      "batchnormalization_48 (BatchNorma(None, 192, None, None0           convolution2d_57[0][0]           \n",
      "____________________________________________________________________________________________________\n",
      "batchnormalization_53 (BatchNorma(None, 192, None, None0           convolution2d_62[0][0]           \n",
      "____________________________________________________________________________________________________\n",
      "batchnormalization_54 (BatchNorma(None, 192, None, None0           convolution2d_63[0][0]           \n",
      "____________________________________________________________________________________________________\n",
      "mixed5 (Merge)                   (None, 768, None, None0           batchnormalization_45[0][0]      \n",
      "                                                                   batchnormalization_48[0][0]      \n",
      "                                                                   batchnormalization_53[0][0]      \n",
      "                                                                   batchnormalization_54[0][0]      \n",
      "____________________________________________________________________________________________________\n",
      "convolution2d_68 (Convolution2D) (None, 160, None, None0           mixed5[0][0]                     \n",
      "____________________________________________________________________________________________________\n",
      "batchnormalization_59 (BatchNorma(None, 160, None, None0           convolution2d_68[0][0]           \n",
      "____________________________________________________________________________________________________\n",
      "convolution2d_69 (Convolution2D) (None, 160, None, None0           batchnormalization_59[0][0]      \n",
      "____________________________________________________________________________________________________\n",
      "batchnormalization_60 (BatchNorma(None, 160, None, None0           convolution2d_69[0][0]           \n",
      "____________________________________________________________________________________________________\n",
      "convolution2d_65 (Convolution2D) (None, 160, None, None0           mixed5[0][0]                     \n",
      "____________________________________________________________________________________________________\n",
      "convolution2d_70 (Convolution2D) (None, 160, None, None0           batchnormalization_60[0][0]      \n",
      "____________________________________________________________________________________________________\n",
      "batchnormalization_56 (BatchNorma(None, 160, None, None0           convolution2d_65[0][0]           \n",
      "____________________________________________________________________________________________________\n",
      "batchnormalization_61 (BatchNorma(None, 160, None, None0           convolution2d_70[0][0]           \n",
      "____________________________________________________________________________________________________\n",
      "convolution2d_66 (Convolution2D) (None, 160, None, None0           batchnormalization_56[0][0]      \n",
      "____________________________________________________________________________________________________\n",
      "convolution2d_71 (Convolution2D) (None, 160, None, None0           batchnormalization_61[0][0]      \n",
      "____________________________________________________________________________________________________\n",
      "batchnormalization_57 (BatchNorma(None, 160, None, None0           convolution2d_66[0][0]           \n",
      "____________________________________________________________________________________________________\n",
      "batchnormalization_62 (BatchNorma(None, 160, None, None0           convolution2d_71[0][0]           \n",
      "____________________________________________________________________________________________________\n",
      "averagepooling2d_6 (AveragePoolin(None, 768, None, None0           mixed5[0][0]                     \n",
      "____________________________________________________________________________________________________\n",
      "convolution2d_64 (Convolution2D) (None, 192, None, None0           mixed5[0][0]                     \n",
      "____________________________________________________________________________________________________\n",
      "convolution2d_67 (Convolution2D) (None, 192, None, None0           batchnormalization_57[0][0]      \n",
      "____________________________________________________________________________________________________\n",
      "convolution2d_72 (Convolution2D) (None, 192, None, None0           batchnormalization_62[0][0]      \n",
      "____________________________________________________________________________________________________\n",
      "convolution2d_73 (Convolution2D) (None, 192, None, None0           averagepooling2d_6[0][0]         \n",
      "____________________________________________________________________________________________________\n",
      "batchnormalization_55 (BatchNorma(None, 192, None, None0           convolution2d_64[0][0]           \n",
      "____________________________________________________________________________________________________\n",
      "batchnormalization_58 (BatchNorma(None, 192, None, None0           convolution2d_67[0][0]           \n",
      "____________________________________________________________________________________________________\n",
      "batchnormalization_63 (BatchNorma(None, 192, None, None0           convolution2d_72[0][0]           \n",
      "____________________________________________________________________________________________________\n",
      "batchnormalization_64 (BatchNorma(None, 192, None, None0           convolution2d_73[0][0]           \n",
      "____________________________________________________________________________________________________\n",
      "mixed6 (Merge)                   (None, 768, None, None0           batchnormalization_55[0][0]      \n",
      "                                                                   batchnormalization_58[0][0]      \n",
      "                                                                   batchnormalization_63[0][0]      \n",
      "                                                                   batchnormalization_64[0][0]      \n",
      "____________________________________________________________________________________________________\n",
      "convolution2d_78 (Convolution2D) (None, 160, None, None0           mixed6[0][0]                     \n",
      "____________________________________________________________________________________________________\n",
      "batchnormalization_69 (BatchNorma(None, 160, None, None0           convolution2d_78[0][0]           \n",
      "____________________________________________________________________________________________________\n",
      "convolution2d_79 (Convolution2D) (None, 192, None, None0           batchnormalization_69[0][0]      \n",
      "____________________________________________________________________________________________________\n",
      "batchnormalization_70 (BatchNorma(None, 192, None, None0           convolution2d_79[0][0]           \n",
      "____________________________________________________________________________________________________\n",
      "convolution2d_75 (Convolution2D) (None, 192, None, None0           mixed6[0][0]                     \n",
      "____________________________________________________________________________________________________\n",
      "convolution2d_80 (Convolution2D) (None, 192, None, None0           batchnormalization_70[0][0]      \n",
      "____________________________________________________________________________________________________\n",
      "batchnormalization_66 (BatchNorma(None, 192, None, None0           convolution2d_75[0][0]           \n",
      "____________________________________________________________________________________________________\n",
      "batchnormalization_71 (BatchNorma(None, 192, None, None0           convolution2d_80[0][0]           \n",
      "____________________________________________________________________________________________________\n",
      "convolution2d_76 (Convolution2D) (None, 192, None, None0           batchnormalization_66[0][0]      \n",
      "____________________________________________________________________________________________________\n",
      "convolution2d_81 (Convolution2D) (None, 192, None, None0           batchnormalization_71[0][0]      \n",
      "____________________________________________________________________________________________________\n",
      "batchnormalization_67 (BatchNorma(None, 192, None, None0           convolution2d_76[0][0]           \n",
      "____________________________________________________________________________________________________\n",
      "batchnormalization_72 (BatchNorma(None, 192, None, None0           convolution2d_81[0][0]           \n",
      "____________________________________________________________________________________________________\n",
      "averagepooling2d_7 (AveragePoolin(None, 768, None, None0           mixed6[0][0]                     \n",
      "____________________________________________________________________________________________________\n",
      "convolution2d_74 (Convolution2D) (None, 192, None, None0           mixed6[0][0]                     \n",
      "____________________________________________________________________________________________________\n",
      "convolution2d_77 (Convolution2D) (None, 192, None, None0           batchnormalization_67[0][0]      \n",
      "____________________________________________________________________________________________________\n",
      "convolution2d_82 (Convolution2D) (None, 192, None, None0           batchnormalization_72[0][0]      \n",
      "____________________________________________________________________________________________________\n",
      "convolution2d_83 (Convolution2D) (None, 192, None, None0           averagepooling2d_7[0][0]         \n",
      "____________________________________________________________________________________________________\n",
      "batchnormalization_65 (BatchNorma(None, 192, None, None0           convolution2d_74[0][0]           \n",
      "____________________________________________________________________________________________________\n",
      "batchnormalization_68 (BatchNorma(None, 192, None, None0           convolution2d_77[0][0]           \n",
      "____________________________________________________________________________________________________\n",
      "batchnormalization_73 (BatchNorma(None, 192, None, None0           convolution2d_82[0][0]           \n",
      "____________________________________________________________________________________________________\n",
      "batchnormalization_74 (BatchNorma(None, 192, None, None0           convolution2d_83[0][0]           \n",
      "____________________________________________________________________________________________________\n",
      "mixed7 (Merge)                   (None, 768, None, None0           batchnormalization_65[0][0]      \n",
      "                                                                   batchnormalization_68[0][0]      \n",
      "                                                                   batchnormalization_73[0][0]      \n",
      "                                                                   batchnormalization_74[0][0]      \n",
      "____________________________________________________________________________________________________\n",
      "convolution2d_86 (Convolution2D) (None, 192, None, None0           mixed7[0][0]                     \n",
      "____________________________________________________________________________________________________\n",
      "batchnormalization_77 (BatchNorma(None, 192, None, None0           convolution2d_86[0][0]           \n",
      "____________________________________________________________________________________________________\n",
      "convolution2d_87 (Convolution2D) (None, 192, None, None0           batchnormalization_77[0][0]      \n",
      "____________________________________________________________________________________________________\n",
      "batchnormalization_78 (BatchNorma(None, 192, None, None0           convolution2d_87[0][0]           \n",
      "____________________________________________________________________________________________________\n",
      "convolution2d_84 (Convolution2D) (None, 192, None, None0           mixed7[0][0]                     \n",
      "____________________________________________________________________________________________________\n",
      "convolution2d_88 (Convolution2D) (None, 192, None, None0           batchnormalization_78[0][0]      \n",
      "____________________________________________________________________________________________________\n",
      "batchnormalization_75 (BatchNorma(None, 192, None, None0           convolution2d_84[0][0]           \n",
      "____________________________________________________________________________________________________\n",
      "batchnormalization_79 (BatchNorma(None, 192, None, None0           convolution2d_88[0][0]           \n",
      "____________________________________________________________________________________________________\n",
      "convolution2d_85 (Convolution2D) (None, 320, None, None0           batchnormalization_75[0][0]      \n",
      "____________________________________________________________________________________________________\n",
      "convolution2d_89 (Convolution2D) (None, 192, None, None0           batchnormalization_79[0][0]      \n",
      "____________________________________________________________________________________________________\n",
      "batchnormalization_76 (BatchNorma(None, 320, None, None0           convolution2d_85[0][0]           \n",
      "____________________________________________________________________________________________________\n",
      "batchnormalization_80 (BatchNorma(None, 192, None, None0           convolution2d_89[0][0]           \n",
      "____________________________________________________________________________________________________\n",
      "averagepooling2d_8 (AveragePoolin(None, 768, None, None0           mixed7[0][0]                     \n",
      "____________________________________________________________________________________________________\n",
      "mixed8 (Merge)                   (None, 1280, None, Non0           batchnormalization_76[0][0]      \n",
      "                                                                   batchnormalization_80[0][0]      \n",
      "                                                                   averagepooling2d_8[0][0]         \n",
      "____________________________________________________________________________________________________\n",
      "convolution2d_94 (Convolution2D) (None, 448, None, None0           mixed8[0][0]                     \n",
      "____________________________________________________________________________________________________\n",
      "batchnormalization_85 (BatchNorma(None, 448, None, None0           convolution2d_94[0][0]           \n",
      "____________________________________________________________________________________________________\n",
      "convolution2d_91 (Convolution2D) (None, 384, None, None0           mixed8[0][0]                     \n",
      "____________________________________________________________________________________________________\n",
      "convolution2d_95 (Convolution2D) (None, 384, None, None0           batchnormalization_85[0][0]      \n",
      "____________________________________________________________________________________________________\n",
      "batchnormalization_82 (BatchNorma(None, 384, None, None0           convolution2d_91[0][0]           \n",
      "____________________________________________________________________________________________________\n",
      "batchnormalization_86 (BatchNorma(None, 384, None, None0           convolution2d_95[0][0]           \n",
      "____________________________________________________________________________________________________\n",
      "convolution2d_92 (Convolution2D) (None, 384, None, None0           batchnormalization_82[0][0]      \n",
      "____________________________________________________________________________________________________\n",
      "convolution2d_93 (Convolution2D) (None, 384, None, None0           batchnormalization_82[0][0]      \n",
      "____________________________________________________________________________________________________\n",
      "convolution2d_96 (Convolution2D) (None, 384, None, None0           batchnormalization_86[0][0]      \n",
      "____________________________________________________________________________________________________\n",
      "convolution2d_97 (Convolution2D) (None, 384, None, None0           batchnormalization_86[0][0]      \n",
      "____________________________________________________________________________________________________\n",
      "averagepooling2d_9 (AveragePoolin(None, 1280, None, Non0           mixed8[0][0]                     \n",
      "____________________________________________________________________________________________________\n",
      "convolution2d_90 (Convolution2D) (None, 320, None, None0           mixed8[0][0]                     \n",
      "____________________________________________________________________________________________________\n",
      "batchnormalization_83 (BatchNorma(None, 384, None, None0           convolution2d_92[0][0]           \n",
      "____________________________________________________________________________________________________\n",
      "batchnormalization_84 (BatchNorma(None, 384, None, None0           convolution2d_93[0][0]           \n",
      "____________________________________________________________________________________________________\n",
      "batchnormalization_87 (BatchNorma(None, 384, None, None0           convolution2d_96[0][0]           \n",
      "____________________________________________________________________________________________________\n",
      "batchnormalization_88 (BatchNorma(None, 384, None, None0           convolution2d_97[0][0]           \n",
      "____________________________________________________________________________________________________\n",
      "convolution2d_98 (Convolution2D) (None, 192, None, None0           averagepooling2d_9[0][0]         \n",
      "____________________________________________________________________________________________________\n",
      "batchnormalization_81 (BatchNorma(None, 320, None, None0           convolution2d_90[0][0]           \n",
      "____________________________________________________________________________________________________\n",
      "mixed9_0 (Merge)                 (None, 768, None, None0           batchnormalization_83[0][0]      \n",
      "                                                                   batchnormalization_84[0][0]      \n",
      "____________________________________________________________________________________________________\n",
      "merge_1 (Merge)                  (None, 768, None, None0           batchnormalization_87[0][0]      \n",
      "                                                                   batchnormalization_88[0][0]      \n",
      "____________________________________________________________________________________________________\n",
      "batchnormalization_89 (BatchNorma(None, 192, None, None0           convolution2d_98[0][0]           \n",
      "____________________________________________________________________________________________________\n",
      "mixed9 (Merge)                   (None, 2048, None, Non0           batchnormalization_81[0][0]      \n",
      "                                                                   mixed9_0[0][0]                   \n",
      "                                                                   merge_1[0][0]                    \n",
      "                                                                   batchnormalization_89[0][0]      \n",
      "____________________________________________________________________________________________________\n",
      "convolution2d_103 (Convolution2D)(None, 448, None, None0           mixed9[0][0]                     \n",
      "____________________________________________________________________________________________________\n",
      "batchnormalization_94 (BatchNorma(None, 448, None, None0           convolution2d_103[0][0]          \n",
      "____________________________________________________________________________________________________\n",
      "convolution2d_100 (Convolution2D)(None, 384, None, None0           mixed9[0][0]                     \n",
      "____________________________________________________________________________________________________\n",
      "convolution2d_104 (Convolution2D)(None, 384, None, None0           batchnormalization_94[0][0]      \n",
      "____________________________________________________________________________________________________\n",
      "batchnormalization_91 (BatchNorma(None, 384, None, None0           convolution2d_100[0][0]          \n",
      "____________________________________________________________________________________________________\n",
      "batchnormalization_95 (BatchNorma(None, 384, None, None0           convolution2d_104[0][0]          \n",
      "____________________________________________________________________________________________________\n",
      "convolution2d_101 (Convolution2D)(None, 384, None, None0           batchnormalization_91[0][0]      \n",
      "____________________________________________________________________________________________________\n",
      "convolution2d_102 (Convolution2D)(None, 384, None, None0           batchnormalization_91[0][0]      \n",
      "____________________________________________________________________________________________________\n",
      "convolution2d_105 (Convolution2D)(None, 384, None, None0           batchnormalization_95[0][0]      \n",
      "____________________________________________________________________________________________________\n",
      "convolution2d_106 (Convolution2D)(None, 384, None, None0           batchnormalization_95[0][0]      \n",
      "____________________________________________________________________________________________________\n",
      "averagepooling2d_10 (AveragePooli(None, 2048, None, Non0           mixed9[0][0]                     \n",
      "____________________________________________________________________________________________________\n",
      "convolution2d_99 (Convolution2D) (None, 320, None, None0           mixed9[0][0]                     \n",
      "____________________________________________________________________________________________________\n",
      "batchnormalization_92 (BatchNorma(None, 384, None, None0           convolution2d_101[0][0]          \n",
      "____________________________________________________________________________________________________\n",
      "batchnormalization_93 (BatchNorma(None, 384, None, None0           convolution2d_102[0][0]          \n",
      "____________________________________________________________________________________________________\n",
      "batchnormalization_96 (BatchNorma(None, 384, None, None0           convolution2d_105[0][0]          \n",
      "____________________________________________________________________________________________________\n",
      "batchnormalization_97 (BatchNorma(None, 384, None, None0           convolution2d_106[0][0]          \n",
      "____________________________________________________________________________________________________\n",
      "convolution2d_107 (Convolution2D)(None, 192, None, None0           averagepooling2d_10[0][0]        \n",
      "____________________________________________________________________________________________________\n",
      "batchnormalization_90 (BatchNorma(None, 320, None, None0           convolution2d_99[0][0]           \n",
      "____________________________________________________________________________________________________\n",
      "mixed9_1 (Merge)                 (None, 768, None, None0           batchnormalization_92[0][0]      \n",
      "                                                                   batchnormalization_93[0][0]      \n",
      "____________________________________________________________________________________________________\n",
      "merge_2 (Merge)                  (None, 768, None, None0           batchnormalization_96[0][0]      \n",
      "                                                                   batchnormalization_97[0][0]      \n",
      "____________________________________________________________________________________________________\n",
      "batchnormalization_98 (BatchNorma(None, 192, None, None0           convolution2d_107[0][0]          \n",
      "____________________________________________________________________________________________________\n",
      "mixed10 (Merge)                  (None, 2048, None, Non0           batchnormalization_90[0][0]      \n",
      "                                                                   mixed9_1[0][0]                   \n",
      "                                                                   merge_2[0][0]                    \n",
      "                                                                   batchnormalization_98[0][0]      \n",
      "____________________________________________________________________________________________________\n",
      "globalaveragepooling2d_1 (GlobalA(None, 2048)          0           mixed10[0][0]                    \n",
      "____________________________________________________________________________________________________\n",
      "dense_7 (Dense)                  (None, 1024)          2098176     globalaveragepooling2d_1[0][0]   \n",
      "____________________________________________________________________________________________________\n"
     ]
    },
    {
     "name": "stdout",
     "output_type": "stream",
     "text": [
      "dense_8 (Dense)                  (None, 10)            10250       dense_7[0][0]                    \n",
      "====================================================================================================\n",
      "Total params: 2108426\n",
      "____________________________________________________________________________________________________\n"
     ]
    }
   ],
   "source": [
    "model.summary()"
   ]
  },
  {
   "cell_type": "code",
   "execution_count": 83,
   "metadata": {},
   "outputs": [
    {
     "name": "stdout",
     "output_type": "stream",
     "text": [
      "Epoch 1/1\n",
      "32821/32821 [==============================] - 530s - loss: 0.3063 - acc: 0.8986 - val_loss: 1.4870 - val_acc: 0.6044\n"
     ]
    }
   ],
   "source": [
    "# we chose to train the top 2 inception blocks, i.e. we will freeze\n",
    "# the first 172 layers and unfreeze the rest:\n",
    "for layer in model.layers[:172]:\n",
    "    layer.trainable = False\n",
    "for layer in model.layers[172:]:\n",
    "    layer.trainable = True\n",
    "\n",
    "# we need to recompile the model for these modifications to take effect\n",
    "# we use SGD with a low learning rate\n",
    "model.compile(optimizer=SGD(lr=0.0001, momentum=0.9), loss='categorical_crossentropy', metrics=['accuracy'])\n",
    "\n",
    "# we train our model again (this time fine-tuning the top 2 inception blocks\n",
    "# alongside the top Dense layers\n",
    "history = model.fit_generator(\n",
    "        tgenerator,\n",
    "        samples_per_epoch=tgenerator.N,\n",
    "        nb_epoch=1,\n",
    "        validation_data=val_generator,\n",
    "        nb_val_samples=val_generator.N)"
   ]
  },
  {
   "cell_type": "code",
   "execution_count": 84,
   "metadata": {},
   "outputs": [
    {
     "name": "stdout",
     "output_type": "stream",
     "text": [
      "Epoch 1/3\n",
      "32821/32821 [==============================] - 530s - loss: 0.2256 - acc: 0.9277 - val_loss: 1.4025 - val_acc: 0.6216\n",
      "Epoch 2/3\n",
      "32821/32821 [==============================] - 530s - loss: 0.1901 - acc: 0.9392 - val_loss: 1.4101 - val_acc: 0.6347\n",
      "Epoch 3/3\n",
      "32821/32821 [==============================] - 529s - loss: 0.1630 - acc: 0.9486 - val_loss: 1.3689 - val_acc: 0.6376\n"
     ]
    }
   ],
   "source": [
    "history = model.fit_generator(\n",
    "        tgenerator,\n",
    "        samples_per_epoch=tgenerator.N,\n",
    "        nb_epoch=3,\n",
    "        validation_data=val_generator,\n",
    "        nb_val_samples=val_generator.N)"
   ]
  },
  {
   "cell_type": "markdown",
   "metadata": {},
   "source": [
    "Save the model!!!"
   ]
  },
  {
   "cell_type": "code",
   "execution_count": 85,
   "metadata": {},
   "outputs": [],
   "source": [
    "save_model(model, 1, cross='Incep')"
   ]
  },
  {
   "cell_type": "markdown",
   "metadata": {},
   "source": [
    "## Now try ResNet50"
   ]
  },
  {
   "cell_type": "code",
   "execution_count": 88,
   "metadata": {},
   "outputs": [
    {
     "name": "stdout",
     "output_type": "stream",
     "text": [
      "Downloading data from https://github.com/fchollet/deep-learning-models/releases/download/v0.2/resnet50_weights_th_dim_ordering_th_kernels_notop.h5\n",
      "94511104/94653016 [============================>.] - ETA: 0s"
     ]
    }
   ],
   "source": [
    "from keras.applications.resnet50 import ResNet50\n",
    "from keras.preprocessing import image\n",
    "from keras.applications.resnet50 import preprocess_input, decode_predictions\n",
    "\n",
    "res_base_model = ResNet50(include_top=False, weights='imagenet')#,input_shape=(3,224,224)(include_top=True, weights='imagenet', input_tensor=None, input_shape=None))"
   ]
  },
  {
   "cell_type": "code",
   "execution_count": 89,
   "metadata": {},
   "outputs": [
    {
     "name": "stdout",
     "output_type": "stream",
     "text": [
      "th\n"
     ]
    }
   ],
   "source": [
    "for layer in res_base_model.layers:\n",
    "    layer.trainable = False\n",
    "# add a global spatial average pooling layer\n",
    "rx = res_base_model.output\n",
    "rx = GlobalAveragePooling2D()(rx)\n",
    "# let's add a fully-connected layer\n",
    "rx = Dense(1024, activation='relu')(rx)\n",
    "# and a logistic layer -- let's say we have 200 classes\n",
    "predictions = Dense(10, activation='softmax')(rx)\n",
    "\n",
    "# this is the model we will train\n",
    "res_model = Model(input=res_base_model.input, output=predictions)\n",
    "\n",
    "# compile the model (should be done *after* setting layers to non-trainable)\n",
    "res_model.compile(optimizer='rmsprop', loss='categorical_crossentropy', metrics=['accuracy'])\n"
   ]
  },
  {
   "cell_type": "code",
   "execution_count": 91,
   "metadata": {
    "scrolled": true
   },
   "outputs": [
    {
     "name": "stdout",
     "output_type": "stream",
     "text": [
      "Epoch 1/3\n",
      "32821/32821 [==============================] - 571s - loss: 0.4219 - acc: 0.8600 - val_loss: 1.3356 - val_acc: 0.6389\n",
      "Epoch 2/3\n",
      "32821/32821 [==============================] - 570s - loss: 0.2633 - acc: 0.9133 - val_loss: 1.2056 - val_acc: 0.6935\n",
      "Epoch 3/3\n",
      "32821/32821 [==============================] - 570s - loss: 0.2000 - acc: 0.9353 - val_loss: 1.7014 - val_acc: 0.6083\n"
     ]
    },
    {
     "data": {
      "text/plain": [
       "<keras.callbacks.History at 0x7f9189f76290>"
      ]
     },
     "execution_count": 91,
     "metadata": {},
     "output_type": "execute_result"
    }
   ],
   "source": [
    "# train the model on the new data for a few epochs\n",
    "res_model.fit_generator(\n",
    "        tgenerator,\n",
    "        samples_per_epoch=tgenerator.N,\n",
    "        nb_epoch=3,\n",
    "        validation_data=val_generator,\n",
    "        nb_val_samples=val_generator.N)"
   ]
  },
  {
   "cell_type": "markdown",
   "metadata": {},
   "source": [
    "#### Next, train the last few layers. First, view the model"
   ]
  },
  {
   "cell_type": "code",
   "execution_count": 92,
   "metadata": {
    "collapsed": true
   },
   "outputs": [
    {
     "name": "stdout",
     "output_type": "stream",
     "text": [
      "____________________________________________________________________________________________________\n",
      "Layer (type)                     Output Shape          Param #     Connected to                     \n",
      "====================================================================================================\n",
      "input_2 (InputLayer)             (None, 3, None, None) 0                                            \n",
      "____________________________________________________________________________________________________\n",
      "zeropadding2d_14 (ZeroPadding2D) (None, 3, None, None) 0           input_2[0][0]                    \n",
      "____________________________________________________________________________________________________\n",
      "conv1 (Convolution2D)            (None, 64, None, None)0           zeropadding2d_14[0][0]           \n",
      "____________________________________________________________________________________________________\n",
      "bn_conv1 (BatchNormalization)    (None, 64, None, None)0           conv1[0][0]                      \n",
      "____________________________________________________________________________________________________\n",
      "activation_1 (Activation)        (None, 64, None, None)0           bn_conv1[0][0]                   \n",
      "____________________________________________________________________________________________________\n",
      "maxpooling2d_10 (MaxPooling2D)   (None, 64, None, None)0           activation_1[0][0]               \n",
      "____________________________________________________________________________________________________\n",
      "res2a_branch2a (Convolution2D)   (None, 64, None, None)0           maxpooling2d_10[0][0]            \n",
      "____________________________________________________________________________________________________\n",
      "bn2a_branch2a (BatchNormalization(None, 64, None, None)0           res2a_branch2a[0][0]             \n",
      "____________________________________________________________________________________________________\n",
      "activation_2 (Activation)        (None, 64, None, None)0           bn2a_branch2a[0][0]              \n",
      "____________________________________________________________________________________________________\n",
      "res2a_branch2b (Convolution2D)   (None, 64, None, None)0           activation_2[0][0]               \n",
      "____________________________________________________________________________________________________\n",
      "bn2a_branch2b (BatchNormalization(None, 64, None, None)0           res2a_branch2b[0][0]             \n",
      "____________________________________________________________________________________________________\n",
      "activation_3 (Activation)        (None, 64, None, None)0           bn2a_branch2b[0][0]              \n",
      "____________________________________________________________________________________________________\n",
      "res2a_branch2c (Convolution2D)   (None, 256, None, None0           activation_3[0][0]               \n",
      "____________________________________________________________________________________________________\n",
      "res2a_branch1 (Convolution2D)    (None, 256, None, None0           maxpooling2d_10[0][0]            \n",
      "____________________________________________________________________________________________________\n",
      "bn2a_branch2c (BatchNormalization(None, 256, None, None0           res2a_branch2c[0][0]             \n",
      "____________________________________________________________________________________________________\n",
      "bn2a_branch1 (BatchNormalization)(None, 256, None, None0           res2a_branch1[0][0]              \n",
      "____________________________________________________________________________________________________\n",
      "merge_3 (Merge)                  (None, 256, None, None0           bn2a_branch2c[0][0]              \n",
      "                                                                   bn2a_branch1[0][0]               \n",
      "____________________________________________________________________________________________________\n",
      "activation_4 (Activation)        (None, 256, None, None0           merge_3[0][0]                    \n",
      "____________________________________________________________________________________________________\n",
      "res2b_branch2a (Convolution2D)   (None, 64, None, None)0           activation_4[0][0]               \n",
      "____________________________________________________________________________________________________\n",
      "bn2b_branch2a (BatchNormalization(None, 64, None, None)0           res2b_branch2a[0][0]             \n",
      "____________________________________________________________________________________________________\n",
      "activation_5 (Activation)        (None, 64, None, None)0           bn2b_branch2a[0][0]              \n",
      "____________________________________________________________________________________________________\n",
      "res2b_branch2b (Convolution2D)   (None, 64, None, None)0           activation_5[0][0]               \n",
      "____________________________________________________________________________________________________\n",
      "bn2b_branch2b (BatchNormalization(None, 64, None, None)0           res2b_branch2b[0][0]             \n",
      "____________________________________________________________________________________________________\n",
      "activation_6 (Activation)        (None, 64, None, None)0           bn2b_branch2b[0][0]              \n",
      "____________________________________________________________________________________________________\n",
      "res2b_branch2c (Convolution2D)   (None, 256, None, None0           activation_6[0][0]               \n",
      "____________________________________________________________________________________________________\n",
      "bn2b_branch2c (BatchNormalization(None, 256, None, None0           res2b_branch2c[0][0]             \n",
      "____________________________________________________________________________________________________\n",
      "merge_4 (Merge)                  (None, 256, None, None0           bn2b_branch2c[0][0]              \n",
      "                                                                   activation_4[0][0]               \n",
      "____________________________________________________________________________________________________\n",
      "activation_7 (Activation)        (None, 256, None, None0           merge_4[0][0]                    \n",
      "____________________________________________________________________________________________________\n",
      "res2c_branch2a (Convolution2D)   (None, 64, None, None)0           activation_7[0][0]               \n",
      "____________________________________________________________________________________________________\n",
      "bn2c_branch2a (BatchNormalization(None, 64, None, None)0           res2c_branch2a[0][0]             \n",
      "____________________________________________________________________________________________________\n",
      "activation_8 (Activation)        (None, 64, None, None)0           bn2c_branch2a[0][0]              \n",
      "____________________________________________________________________________________________________\n",
      "res2c_branch2b (Convolution2D)   (None, 64, None, None)0           activation_8[0][0]               \n",
      "____________________________________________________________________________________________________\n",
      "bn2c_branch2b (BatchNormalization(None, 64, None, None)0           res2c_branch2b[0][0]             \n",
      "____________________________________________________________________________________________________\n",
      "activation_9 (Activation)        (None, 64, None, None)0           bn2c_branch2b[0][0]              \n",
      "____________________________________________________________________________________________________\n",
      "res2c_branch2c (Convolution2D)   (None, 256, None, None0           activation_9[0][0]               \n",
      "____________________________________________________________________________________________________\n",
      "bn2c_branch2c (BatchNormalization(None, 256, None, None0           res2c_branch2c[0][0]             \n",
      "____________________________________________________________________________________________________\n",
      "merge_5 (Merge)                  (None, 256, None, None0           bn2c_branch2c[0][0]              \n",
      "                                                                   activation_7[0][0]               \n",
      "____________________________________________________________________________________________________\n",
      "activation_10 (Activation)       (None, 256, None, None0           merge_5[0][0]                    \n",
      "____________________________________________________________________________________________________\n",
      "res3a_branch2a (Convolution2D)   (None, 128, None, None0           activation_10[0][0]              \n",
      "____________________________________________________________________________________________________\n",
      "bn3a_branch2a (BatchNormalization(None, 128, None, None0           res3a_branch2a[0][0]             \n",
      "____________________________________________________________________________________________________\n",
      "activation_11 (Activation)       (None, 128, None, None0           bn3a_branch2a[0][0]              \n",
      "____________________________________________________________________________________________________\n",
      "res3a_branch2b (Convolution2D)   (None, 128, None, None0           activation_11[0][0]              \n",
      "____________________________________________________________________________________________________\n",
      "bn3a_branch2b (BatchNormalization(None, 128, None, None0           res3a_branch2b[0][0]             \n",
      "____________________________________________________________________________________________________\n",
      "activation_12 (Activation)       (None, 128, None, None0           bn3a_branch2b[0][0]              \n",
      "____________________________________________________________________________________________________\n",
      "res3a_branch2c (Convolution2D)   (None, 512, None, None0           activation_12[0][0]              \n",
      "____________________________________________________________________________________________________\n",
      "res3a_branch1 (Convolution2D)    (None, 512, None, None0           activation_10[0][0]              \n",
      "____________________________________________________________________________________________________\n",
      "bn3a_branch2c (BatchNormalization(None, 512, None, None0           res3a_branch2c[0][0]             \n",
      "____________________________________________________________________________________________________\n",
      "bn3a_branch1 (BatchNormalization)(None, 512, None, None0           res3a_branch1[0][0]              \n",
      "____________________________________________________________________________________________________\n",
      "merge_6 (Merge)                  (None, 512, None, None0           bn3a_branch2c[0][0]              \n",
      "                                                                   bn3a_branch1[0][0]               \n",
      "____________________________________________________________________________________________________\n",
      "activation_13 (Activation)       (None, 512, None, None0           merge_6[0][0]                    \n",
      "____________________________________________________________________________________________________\n",
      "res3b_branch2a (Convolution2D)   (None, 128, None, None0           activation_13[0][0]              \n",
      "____________________________________________________________________________________________________\n",
      "bn3b_branch2a (BatchNormalization(None, 128, None, None0           res3b_branch2a[0][0]             \n",
      "____________________________________________________________________________________________________\n",
      "activation_14 (Activation)       (None, 128, None, None0           bn3b_branch2a[0][0]              \n",
      "____________________________________________________________________________________________________\n",
      "res3b_branch2b (Convolution2D)   (None, 128, None, None0           activation_14[0][0]              \n",
      "____________________________________________________________________________________________________\n",
      "bn3b_branch2b (BatchNormalization(None, 128, None, None0           res3b_branch2b[0][0]             \n",
      "____________________________________________________________________________________________________\n",
      "activation_15 (Activation)       (None, 128, None, None0           bn3b_branch2b[0][0]              \n",
      "____________________________________________________________________________________________________\n",
      "res3b_branch2c (Convolution2D)   (None, 512, None, None0           activation_15[0][0]              \n",
      "____________________________________________________________________________________________________\n",
      "bn3b_branch2c (BatchNormalization(None, 512, None, None0           res3b_branch2c[0][0]             \n",
      "____________________________________________________________________________________________________\n",
      "merge_7 (Merge)                  (None, 512, None, None0           bn3b_branch2c[0][0]              \n",
      "                                                                   activation_13[0][0]              \n",
      "____________________________________________________________________________________________________\n",
      "activation_16 (Activation)       (None, 512, None, None0           merge_7[0][0]                    \n",
      "____________________________________________________________________________________________________\n",
      "res3c_branch2a (Convolution2D)   (None, 128, None, None0           activation_16[0][0]              \n",
      "____________________________________________________________________________________________________\n",
      "bn3c_branch2a (BatchNormalization(None, 128, None, None0           res3c_branch2a[0][0]             \n",
      "____________________________________________________________________________________________________\n",
      "activation_17 (Activation)       (None, 128, None, None0           bn3c_branch2a[0][0]              \n",
      "____________________________________________________________________________________________________\n",
      "res3c_branch2b (Convolution2D)   (None, 128, None, None0           activation_17[0][0]              \n",
      "____________________________________________________________________________________________________\n",
      "bn3c_branch2b (BatchNormalization(None, 128, None, None0           res3c_branch2b[0][0]             \n",
      "____________________________________________________________________________________________________\n",
      "activation_18 (Activation)       (None, 128, None, None0           bn3c_branch2b[0][0]              \n",
      "____________________________________________________________________________________________________\n",
      "res3c_branch2c (Convolution2D)   (None, 512, None, None0           activation_18[0][0]              \n",
      "____________________________________________________________________________________________________\n",
      "bn3c_branch2c (BatchNormalization(None, 512, None, None0           res3c_branch2c[0][0]             \n",
      "____________________________________________________________________________________________________\n",
      "merge_8 (Merge)                  (None, 512, None, None0           bn3c_branch2c[0][0]              \n",
      "                                                                   activation_16[0][0]              \n",
      "____________________________________________________________________________________________________\n",
      "activation_19 (Activation)       (None, 512, None, None0           merge_8[0][0]                    \n",
      "____________________________________________________________________________________________________\n",
      "res3d_branch2a (Convolution2D)   (None, 128, None, None0           activation_19[0][0]              \n",
      "____________________________________________________________________________________________________\n",
      "bn3d_branch2a (BatchNormalization(None, 128, None, None0           res3d_branch2a[0][0]             \n",
      "____________________________________________________________________________________________________\n",
      "activation_20 (Activation)       (None, 128, None, None0           bn3d_branch2a[0][0]              \n",
      "____________________________________________________________________________________________________\n",
      "res3d_branch2b (Convolution2D)   (None, 128, None, None0           activation_20[0][0]              \n",
      "____________________________________________________________________________________________________\n",
      "bn3d_branch2b (BatchNormalization(None, 128, None, None0           res3d_branch2b[0][0]             \n",
      "____________________________________________________________________________________________________\n",
      "activation_21 (Activation)       (None, 128, None, None0           bn3d_branch2b[0][0]              \n",
      "____________________________________________________________________________________________________\n",
      "res3d_branch2c (Convolution2D)   (None, 512, None, None0           activation_21[0][0]              \n",
      "____________________________________________________________________________________________________\n",
      "bn3d_branch2c (BatchNormalization(None, 512, None, None0           res3d_branch2c[0][0]             \n",
      "____________________________________________________________________________________________________\n",
      "merge_9 (Merge)                  (None, 512, None, None0           bn3d_branch2c[0][0]              \n",
      "                                                                   activation_19[0][0]              \n",
      "____________________________________________________________________________________________________\n",
      "activation_22 (Activation)       (None, 512, None, None0           merge_9[0][0]                    \n",
      "____________________________________________________________________________________________________\n",
      "res4a_branch2a (Convolution2D)   (None, 256, None, None0           activation_22[0][0]              \n",
      "____________________________________________________________________________________________________\n",
      "bn4a_branch2a (BatchNormalization(None, 256, None, None0           res4a_branch2a[0][0]             \n",
      "____________________________________________________________________________________________________\n",
      "activation_23 (Activation)       (None, 256, None, None0           bn4a_branch2a[0][0]              \n",
      "____________________________________________________________________________________________________\n",
      "res4a_branch2b (Convolution2D)   (None, 256, None, None0           activation_23[0][0]              \n",
      "____________________________________________________________________________________________________\n",
      "bn4a_branch2b (BatchNormalization(None, 256, None, None0           res4a_branch2b[0][0]             \n",
      "____________________________________________________________________________________________________\n",
      "activation_24 (Activation)       (None, 256, None, None0           bn4a_branch2b[0][0]              \n",
      "____________________________________________________________________________________________________\n",
      "res4a_branch2c (Convolution2D)   (None, 1024, None, Non0           activation_24[0][0]              \n",
      "____________________________________________________________________________________________________\n",
      "res4a_branch1 (Convolution2D)    (None, 1024, None, Non0           activation_22[0][0]              \n",
      "____________________________________________________________________________________________________\n",
      "bn4a_branch2c (BatchNormalization(None, 1024, None, Non0           res4a_branch2c[0][0]             \n",
      "____________________________________________________________________________________________________\n",
      "bn4a_branch1 (BatchNormalization)(None, 1024, None, Non0           res4a_branch1[0][0]              \n",
      "____________________________________________________________________________________________________\n",
      "merge_10 (Merge)                 (None, 1024, None, Non0           bn4a_branch2c[0][0]              \n",
      "                                                                   bn4a_branch1[0][0]               \n",
      "____________________________________________________________________________________________________\n",
      "activation_25 (Activation)       (None, 1024, None, Non0           merge_10[0][0]                   \n",
      "____________________________________________________________________________________________________\n",
      "res4b_branch2a (Convolution2D)   (None, 256, None, None0           activation_25[0][0]              \n",
      "____________________________________________________________________________________________________\n",
      "bn4b_branch2a (BatchNormalization(None, 256, None, None0           res4b_branch2a[0][0]             \n",
      "____________________________________________________________________________________________________\n",
      "activation_26 (Activation)       (None, 256, None, None0           bn4b_branch2a[0][0]              \n",
      "____________________________________________________________________________________________________\n",
      "res4b_branch2b (Convolution2D)   (None, 256, None, None0           activation_26[0][0]              \n",
      "____________________________________________________________________________________________________\n",
      "bn4b_branch2b (BatchNormalization(None, 256, None, None0           res4b_branch2b[0][0]             \n",
      "____________________________________________________________________________________________________\n",
      "activation_27 (Activation)       (None, 256, None, None0           bn4b_branch2b[0][0]              \n",
      "____________________________________________________________________________________________________\n",
      "res4b_branch2c (Convolution2D)   (None, 1024, None, Non0           activation_27[0][0]              \n",
      "____________________________________________________________________________________________________\n",
      "bn4b_branch2c (BatchNormalization(None, 1024, None, Non0           res4b_branch2c[0][0]             \n",
      "____________________________________________________________________________________________________\n",
      "merge_11 (Merge)                 (None, 1024, None, Non0           bn4b_branch2c[0][0]              \n",
      "                                                                   activation_25[0][0]              \n",
      "____________________________________________________________________________________________________\n",
      "activation_28 (Activation)       (None, 1024, None, Non0           merge_11[0][0]                   \n",
      "____________________________________________________________________________________________________\n",
      "res4c_branch2a (Convolution2D)   (None, 256, None, None0           activation_28[0][0]              \n",
      "____________________________________________________________________________________________________\n",
      "bn4c_branch2a (BatchNormalization(None, 256, None, None0           res4c_branch2a[0][0]             \n",
      "____________________________________________________________________________________________________\n",
      "activation_29 (Activation)       (None, 256, None, None0           bn4c_branch2a[0][0]              \n",
      "____________________________________________________________________________________________________\n",
      "res4c_branch2b (Convolution2D)   (None, 256, None, None0           activation_29[0][0]              \n",
      "____________________________________________________________________________________________________\n",
      "bn4c_branch2b (BatchNormalization(None, 256, None, None0           res4c_branch2b[0][0]             \n",
      "____________________________________________________________________________________________________\n",
      "activation_30 (Activation)       (None, 256, None, None0           bn4c_branch2b[0][0]              \n",
      "____________________________________________________________________________________________________\n",
      "res4c_branch2c (Convolution2D)   (None, 1024, None, Non0           activation_30[0][0]              \n",
      "____________________________________________________________________________________________________\n",
      "bn4c_branch2c (BatchNormalization(None, 1024, None, Non0           res4c_branch2c[0][0]             \n",
      "____________________________________________________________________________________________________\n",
      "merge_12 (Merge)                 (None, 1024, None, Non0           bn4c_branch2c[0][0]              \n",
      "                                                                   activation_28[0][0]              \n",
      "____________________________________________________________________________________________________\n",
      "activation_31 (Activation)       (None, 1024, None, Non0           merge_12[0][0]                   \n",
      "____________________________________________________________________________________________________\n",
      "res4d_branch2a (Convolution2D)   (None, 256, None, None0           activation_31[0][0]              \n",
      "____________________________________________________________________________________________________\n",
      "bn4d_branch2a (BatchNormalization(None, 256, None, None0           res4d_branch2a[0][0]             \n",
      "____________________________________________________________________________________________________\n",
      "activation_32 (Activation)       (None, 256, None, None0           bn4d_branch2a[0][0]              \n",
      "____________________________________________________________________________________________________\n",
      "res4d_branch2b (Convolution2D)   (None, 256, None, None0           activation_32[0][0]              \n",
      "____________________________________________________________________________________________________\n",
      "bn4d_branch2b (BatchNormalization(None, 256, None, None0           res4d_branch2b[0][0]             \n",
      "____________________________________________________________________________________________________\n",
      "activation_33 (Activation)       (None, 256, None, None0           bn4d_branch2b[0][0]              \n",
      "____________________________________________________________________________________________________\n",
      "res4d_branch2c (Convolution2D)   (None, 1024, None, Non0           activation_33[0][0]              \n",
      "____________________________________________________________________________________________________\n",
      "bn4d_branch2c (BatchNormalization(None, 1024, None, Non0           res4d_branch2c[0][0]             \n",
      "____________________________________________________________________________________________________\n",
      "merge_13 (Merge)                 (None, 1024, None, Non0           bn4d_branch2c[0][0]              \n",
      "                                                                   activation_31[0][0]              \n",
      "____________________________________________________________________________________________________\n",
      "activation_34 (Activation)       (None, 1024, None, Non0           merge_13[0][0]                   \n",
      "____________________________________________________________________________________________________\n",
      "res4e_branch2a (Convolution2D)   (None, 256, None, None0           activation_34[0][0]              \n",
      "____________________________________________________________________________________________________\n",
      "bn4e_branch2a (BatchNormalization(None, 256, None, None0           res4e_branch2a[0][0]             \n",
      "____________________________________________________________________________________________________\n",
      "activation_35 (Activation)       (None, 256, None, None0           bn4e_branch2a[0][0]              \n",
      "____________________________________________________________________________________________________\n",
      "res4e_branch2b (Convolution2D)   (None, 256, None, None0           activation_35[0][0]              \n",
      "____________________________________________________________________________________________________\n",
      "bn4e_branch2b (BatchNormalization(None, 256, None, None0           res4e_branch2b[0][0]             \n",
      "____________________________________________________________________________________________________\n",
      "activation_36 (Activation)       (None, 256, None, None0           bn4e_branch2b[0][0]              \n",
      "____________________________________________________________________________________________________\n",
      "res4e_branch2c (Convolution2D)   (None, 1024, None, Non0           activation_36[0][0]              \n",
      "____________________________________________________________________________________________________\n",
      "bn4e_branch2c (BatchNormalization(None, 1024, None, Non0           res4e_branch2c[0][0]             \n",
      "____________________________________________________________________________________________________\n",
      "merge_14 (Merge)                 (None, 1024, None, Non0           bn4e_branch2c[0][0]              \n",
      "                                                                   activation_34[0][0]              \n",
      "____________________________________________________________________________________________________\n",
      "activation_37 (Activation)       (None, 1024, None, Non0           merge_14[0][0]                   \n",
      "____________________________________________________________________________________________________\n",
      "res4f_branch2a (Convolution2D)   (None, 256, None, None0           activation_37[0][0]              \n",
      "____________________________________________________________________________________________________\n",
      "bn4f_branch2a (BatchNormalization(None, 256, None, None0           res4f_branch2a[0][0]             \n",
      "____________________________________________________________________________________________________\n",
      "activation_38 (Activation)       (None, 256, None, None0           bn4f_branch2a[0][0]              \n",
      "____________________________________________________________________________________________________\n",
      "res4f_branch2b (Convolution2D)   (None, 256, None, None0           activation_38[0][0]              \n",
      "____________________________________________________________________________________________________\n",
      "bn4f_branch2b (BatchNormalization(None, 256, None, None0           res4f_branch2b[0][0]             \n",
      "____________________________________________________________________________________________________\n",
      "activation_39 (Activation)       (None, 256, None, None0           bn4f_branch2b[0][0]              \n",
      "____________________________________________________________________________________________________\n",
      "res4f_branch2c (Convolution2D)   (None, 1024, None, Non0           activation_39[0][0]              \n",
      "____________________________________________________________________________________________________\n",
      "bn4f_branch2c (BatchNormalization(None, 1024, None, Non0           res4f_branch2c[0][0]             \n",
      "____________________________________________________________________________________________________\n",
      "merge_15 (Merge)                 (None, 1024, None, Non0           bn4f_branch2c[0][0]              \n",
      "                                                                   activation_37[0][0]              \n",
      "____________________________________________________________________________________________________\n",
      "activation_40 (Activation)       (None, 1024, None, Non0           merge_15[0][0]                   \n",
      "____________________________________________________________________________________________________\n",
      "res5a_branch2a (Convolution2D)   (None, 512, None, None0           activation_40[0][0]              \n",
      "____________________________________________________________________________________________________\n",
      "bn5a_branch2a (BatchNormalization(None, 512, None, None0           res5a_branch2a[0][0]             \n",
      "____________________________________________________________________________________________________\n",
      "activation_41 (Activation)       (None, 512, None, None0           bn5a_branch2a[0][0]              \n",
      "____________________________________________________________________________________________________\n",
      "res5a_branch2b (Convolution2D)   (None, 512, None, None0           activation_41[0][0]              \n",
      "____________________________________________________________________________________________________\n",
      "bn5a_branch2b (BatchNormalization(None, 512, None, None0           res5a_branch2b[0][0]             \n",
      "____________________________________________________________________________________________________\n",
      "activation_42 (Activation)       (None, 512, None, None0           bn5a_branch2b[0][0]              \n",
      "____________________________________________________________________________________________________\n",
      "res5a_branch2c (Convolution2D)   (None, 2048, None, Non0           activation_42[0][0]              \n",
      "____________________________________________________________________________________________________\n",
      "res5a_branch1 (Convolution2D)    (None, 2048, None, Non0           activation_40[0][0]              \n",
      "____________________________________________________________________________________________________\n",
      "bn5a_branch2c (BatchNormalization(None, 2048, None, Non0           res5a_branch2c[0][0]             \n",
      "____________________________________________________________________________________________________\n",
      "bn5a_branch1 (BatchNormalization)(None, 2048, None, Non0           res5a_branch1[0][0]              \n",
      "____________________________________________________________________________________________________\n",
      "merge_16 (Merge)                 (None, 2048, None, Non0           bn5a_branch2c[0][0]              \n",
      "                                                                   bn5a_branch1[0][0]               \n",
      "____________________________________________________________________________________________________\n",
      "activation_43 (Activation)       (None, 2048, None, Non0           merge_16[0][0]                   \n",
      "____________________________________________________________________________________________________\n",
      "res5b_branch2a (Convolution2D)   (None, 512, None, None0           activation_43[0][0]              \n",
      "____________________________________________________________________________________________________\n",
      "bn5b_branch2a (BatchNormalization(None, 512, None, None0           res5b_branch2a[0][0]             \n",
      "____________________________________________________________________________________________________\n",
      "activation_44 (Activation)       (None, 512, None, None0           bn5b_branch2a[0][0]              \n",
      "____________________________________________________________________________________________________\n",
      "res5b_branch2b (Convolution2D)   (None, 512, None, None0           activation_44[0][0]              \n",
      "____________________________________________________________________________________________________\n",
      "bn5b_branch2b (BatchNormalization(None, 512, None, None0           res5b_branch2b[0][0]             \n",
      "____________________________________________________________________________________________________\n",
      "activation_45 (Activation)       (None, 512, None, None0           bn5b_branch2b[0][0]              \n",
      "____________________________________________________________________________________________________\n",
      "res5b_branch2c (Convolution2D)   (None, 2048, None, Non0           activation_45[0][0]              \n",
      "____________________________________________________________________________________________________\n",
      "bn5b_branch2c (BatchNormalization(None, 2048, None, Non0           res5b_branch2c[0][0]             \n",
      "____________________________________________________________________________________________________\n",
      "merge_17 (Merge)                 (None, 2048, None, Non0           bn5b_branch2c[0][0]              \n",
      "                                                                   activation_43[0][0]              \n",
      "____________________________________________________________________________________________________\n",
      "activation_46 (Activation)       (None, 2048, None, Non0           merge_17[0][0]                   \n",
      "____________________________________________________________________________________________________\n",
      "res5c_branch2a (Convolution2D)   (None, 512, None, None0           activation_46[0][0]              \n",
      "____________________________________________________________________________________________________\n",
      "bn5c_branch2a (BatchNormalization(None, 512, None, None0           res5c_branch2a[0][0]             \n",
      "____________________________________________________________________________________________________\n",
      "activation_47 (Activation)       (None, 512, None, None0           bn5c_branch2a[0][0]              \n",
      "____________________________________________________________________________________________________\n",
      "res5c_branch2b (Convolution2D)   (None, 512, None, None0           activation_47[0][0]              \n",
      "____________________________________________________________________________________________________\n",
      "bn5c_branch2b (BatchNormalization(None, 512, None, None0           res5c_branch2b[0][0]             \n",
      "____________________________________________________________________________________________________\n",
      "activation_48 (Activation)       (None, 512, None, None0           bn5c_branch2b[0][0]              \n",
      "____________________________________________________________________________________________________\n",
      "res5c_branch2c (Convolution2D)   (None, 2048, None, Non0           activation_48[0][0]              \n",
      "____________________________________________________________________________________________________\n",
      "bn5c_branch2c (BatchNormalization(None, 2048, None, Non0           res5c_branch2c[0][0]             \n",
      "____________________________________________________________________________________________________\n",
      "merge_18 (Merge)                 (None, 2048, None, Non0           bn5c_branch2c[0][0]              \n",
      "                                                                   activation_46[0][0]              \n",
      "____________________________________________________________________________________________________\n",
      "activation_49 (Activation)       (None, 2048, None, Non0           merge_18[0][0]                   \n",
      "____________________________________________________________________________________________________\n",
      "avg_pool (AveragePooling2D)      (None, 2048, None, Non0           activation_49[0][0]              \n",
      "____________________________________________________________________________________________________\n",
      "globalaveragepooling2d_2 (GlobalA(None, 2048)          0           avg_pool[0][0]                   \n",
      "____________________________________________________________________________________________________\n"
     ]
    },
    {
     "name": "stdout",
     "output_type": "stream",
     "text": [
      "dense_9 (Dense)                  (None, 1024)          2098176     globalaveragepooling2d_2[0][0]   \n",
      "____________________________________________________________________________________________________\n",
      "dense_10 (Dense)                 (None, 10)            10250       dense_9[0][0]                    \n",
      "====================================================================================================\n",
      "Total params: 2108426\n",
      "____________________________________________________________________________________________________\n"
     ]
    }
   ],
   "source": [
    "res_model.summary()"
   ]
  },
  {
   "cell_type": "code",
   "execution_count": 93,
   "metadata": {
    "collapsed": true
   },
   "outputs": [
    {
     "name": "stdout",
     "output_type": "stream",
     "text": [
      "0 input_2\n",
      "1 zeropadding2d_14\n",
      "2 conv1\n",
      "3 bn_conv1\n",
      "4 activation_1\n",
      "5 maxpooling2d_10\n",
      "6 res2a_branch2a\n",
      "7 bn2a_branch2a\n",
      "8 activation_2\n",
      "9 res2a_branch2b\n",
      "10 bn2a_branch2b\n",
      "11 activation_3\n",
      "12 res2a_branch2c\n",
      "13 res2a_branch1\n",
      "14 bn2a_branch2c\n",
      "15 bn2a_branch1\n",
      "16 merge_3\n",
      "17 activation_4\n",
      "18 res2b_branch2a\n",
      "19 bn2b_branch2a\n",
      "20 activation_5\n",
      "21 res2b_branch2b\n",
      "22 bn2b_branch2b\n",
      "23 activation_6\n",
      "24 res2b_branch2c\n",
      "25 bn2b_branch2c\n",
      "26 merge_4\n",
      "27 activation_7\n",
      "28 res2c_branch2a\n",
      "29 bn2c_branch2a\n",
      "30 activation_8\n",
      "31 res2c_branch2b\n",
      "32 bn2c_branch2b\n",
      "33 activation_9\n",
      "34 res2c_branch2c\n",
      "35 bn2c_branch2c\n",
      "36 merge_5\n",
      "37 activation_10\n",
      "38 res3a_branch2a\n",
      "39 bn3a_branch2a\n",
      "40 activation_11\n",
      "41 res3a_branch2b\n",
      "42 bn3a_branch2b\n",
      "43 activation_12\n",
      "44 res3a_branch2c\n",
      "45 res3a_branch1\n",
      "46 bn3a_branch2c\n",
      "47 bn3a_branch1\n",
      "48 merge_6\n",
      "49 activation_13\n",
      "50 res3b_branch2a\n",
      "51 bn3b_branch2a\n",
      "52 activation_14\n",
      "53 res3b_branch2b\n",
      "54 bn3b_branch2b\n",
      "55 activation_15\n",
      "56 res3b_branch2c\n",
      "57 bn3b_branch2c\n",
      "58 merge_7\n",
      "59 activation_16\n",
      "60 res3c_branch2a\n",
      "61 bn3c_branch2a\n",
      "62 activation_17\n",
      "63 res3c_branch2b\n",
      "64 bn3c_branch2b\n",
      "65 activation_18\n",
      "66 res3c_branch2c\n",
      "67 bn3c_branch2c\n",
      "68 merge_8\n",
      "69 activation_19\n",
      "70 res3d_branch2a\n",
      "71 bn3d_branch2a\n",
      "72 activation_20\n",
      "73 res3d_branch2b\n",
      "74 bn3d_branch2b\n",
      "75 activation_21\n",
      "76 res3d_branch2c\n",
      "77 bn3d_branch2c\n",
      "78 merge_9\n",
      "79 activation_22\n",
      "80 res4a_branch2a\n",
      "81 bn4a_branch2a\n",
      "82 activation_23\n",
      "83 res4a_branch2b\n",
      "84 bn4a_branch2b\n",
      "85 activation_24\n",
      "86 res4a_branch2c\n",
      "87 res4a_branch1\n",
      "88 bn4a_branch2c\n",
      "89 bn4a_branch1\n",
      "90 merge_10\n",
      "91 activation_25\n",
      "92 res4b_branch2a\n",
      "93 bn4b_branch2a\n",
      "94 activation_26\n",
      "95 res4b_branch2b\n",
      "96 bn4b_branch2b\n",
      "97 activation_27\n",
      "98 res4b_branch2c\n",
      "99 bn4b_branch2c\n",
      "100 merge_11\n",
      "101 activation_28\n",
      "102 res4c_branch2a\n",
      "103 bn4c_branch2a\n",
      "104 activation_29\n",
      "105 res4c_branch2b\n",
      "106 bn4c_branch2b\n",
      "107 activation_30\n",
      "108 res4c_branch2c\n",
      "109 bn4c_branch2c\n",
      "110 merge_12\n",
      "111 activation_31\n",
      "112 res4d_branch2a\n",
      "113 bn4d_branch2a\n",
      "114 activation_32\n",
      "115 res4d_branch2b\n",
      "116 bn4d_branch2b\n",
      "117 activation_33\n",
      "118 res4d_branch2c\n",
      "119 bn4d_branch2c\n",
      "120 merge_13\n",
      "121 activation_34\n",
      "122 res4e_branch2a\n",
      "123 bn4e_branch2a\n",
      "124 activation_35\n",
      "125 res4e_branch2b\n",
      "126 bn4e_branch2b\n",
      "127 activation_36\n",
      "128 res4e_branch2c\n",
      "129 bn4e_branch2c\n",
      "130 merge_14\n",
      "131 activation_37\n",
      "132 res4f_branch2a\n",
      "133 bn4f_branch2a\n",
      "134 activation_38\n",
      "135 res4f_branch2b\n",
      "136 bn4f_branch2b\n",
      "137 activation_39\n",
      "138 res4f_branch2c\n",
      "139 bn4f_branch2c\n",
      "140 merge_15\n",
      "141 activation_40\n",
      "142 res5a_branch2a\n",
      "143 bn5a_branch2a\n",
      "144 activation_41\n",
      "145 res5a_branch2b\n",
      "146 bn5a_branch2b\n",
      "147 activation_42\n",
      "148 res5a_branch2c\n",
      "149 res5a_branch1\n",
      "150 bn5a_branch2c\n",
      "151 bn5a_branch1\n",
      "152 merge_16\n",
      "153 activation_43\n",
      "154 res5b_branch2a\n",
      "155 bn5b_branch2a\n",
      "156 activation_44\n",
      "157 res5b_branch2b\n",
      "158 bn5b_branch2b\n",
      "159 activation_45\n",
      "160 res5b_branch2c\n",
      "161 bn5b_branch2c\n",
      "162 merge_17\n",
      "163 activation_46\n",
      "164 res5c_branch2a\n",
      "165 bn5c_branch2a\n",
      "166 activation_47\n",
      "167 res5c_branch2b\n",
      "168 bn5c_branch2b\n",
      "169 activation_48\n",
      "170 res5c_branch2c\n",
      "171 bn5c_branch2c\n",
      "172 merge_18\n",
      "173 activation_49\n",
      "174 avg_pool\n"
     ]
    }
   ],
   "source": [
    "for i, layer in enumerate(res_base_model.layers):\n",
    "    print(i, layer.name)"
   ]
  },
  {
   "cell_type": "code",
   "execution_count": 95,
   "metadata": {},
   "outputs": [
    {
     "name": "stdout",
     "output_type": "stream",
     "text": [
      "Epoch 1/1\n",
      "32821/32821 [==============================] - 616s - loss: 0.0313 - acc: 0.9907 - val_loss: 1.1335 - val_acc: 0.7484\n"
     ]
    }
   ],
   "source": [
    "for layer in res_model.layers[162:]:\n",
    "    layer.trainable = True\n",
    "\n",
    "# we need to recompile the model for these modifications to take effect\n",
    "# we use SGD with a low learning rate\n",
    "res_model.compile(optimizer=SGD(lr=0.01, momentum=0.9), loss='categorical_crossentropy', metrics=['accuracy'])\n",
    "\n",
    "# we train our model again (this time fine-tuning the top 2 inception blocks\n",
    "# alongside the top Dense layers\n",
    "history = res_model.fit_generator(\n",
    "        tgenerator,\n",
    "        samples_per_epoch=tgenerator.N,\n",
    "        nb_epoch=1,\n",
    "        validation_data=val_generator,\n",
    "        nb_val_samples=val_generator.N)"
   ]
  },
  {
   "cell_type": "code",
   "execution_count": 96,
   "metadata": {},
   "outputs": [
    {
     "name": "stdout",
     "output_type": "stream",
     "text": [
      "Epoch 1/1\n",
      "32821/32821 [==============================] - 614s - loss: 0.0206 - acc: 0.9939 - val_loss: 0.9452 - val_acc: 0.7711\n"
     ]
    }
   ],
   "source": [
    "# we use SGD with a low learning rate\n",
    "res_model.compile(optimizer=SGD(lr=0.0001, momentum=0.9), loss='categorical_crossentropy', metrics=['accuracy'])\n",
    "\n",
    "history = res_model.fit_generator(\n",
    "        tgenerator,\n",
    "        samples_per_epoch=tgenerator.N,\n",
    "        nb_epoch=1,\n",
    "        validation_data=val_generator,\n",
    "        nb_val_samples=val_generator.N)"
   ]
  },
  {
   "cell_type": "code",
   "execution_count": 101,
   "metadata": {},
   "outputs": [
    {
     "name": "stdout",
     "output_type": "stream",
     "text": [
      "Epoch 1/2\n",
      "32821/32821 [==============================] - 615s - loss: 0.0176 - acc: 0.9949 - val_loss: 0.8937 - val_acc: 0.7771\n",
      "Epoch 2/2\n",
      "32821/32821 [==============================] - 615s - loss: 0.0144 - acc: 0.9961 - val_loss: 0.9069 - val_acc: 0.7779\n"
     ]
    }
   ],
   "source": [
    "res_model.compile(optimizer=SGD(lr=0.00001, momentum=0.9), loss='categorical_crossentropy', metrics=['accuracy'])\n",
    "history = res_model.fit_generator(\n",
    "        tgenerator,\n",
    "        samples_per_epoch=tgenerator.N,\n",
    "        nb_epoch=2,\n",
    "        validation_data=val_generator,\n",
    "        nb_val_samples=val_generator.N)"
   ]
  },
  {
   "cell_type": "markdown",
   "metadata": {},
   "source": [
    "Save the Model"
   ]
  },
  {
   "cell_type": "code",
   "execution_count": 102,
   "metadata": {},
   "outputs": [],
   "source": [
    "save_model(res_model, 1, cross='ResNet')"
   ]
  },
  {
   "cell_type": "code",
   "execution_count": 107,
   "metadata": {
    "scrolled": true
   },
   "outputs": [
    {
     "name": "stdout",
     "output_type": "stream",
     "text": [
      "Epoch 1/1\n",
      "65642/65642 [==============================] - 1195s - loss: 0.0697 - acc: 0.9790 - val_loss: 1.1419 - val_acc: 0.7638\n"
     ]
    }
   ],
   "source": [
    "res_model.compile(Adam(lr=0.001), loss='categorical_crossentropy', metrics=['accuracy'])\n",
    "history = res_model.fit_generator(\n",
    "        tgenerator,\n",
    "        samples_per_epoch=tgenerator.N*2,\n",
    "        nb_epoch=1,\n",
    "        validation_data=val_generator,\n",
    "        nb_val_samples=val_generator.N)"
   ]
  },
  {
   "cell_type": "markdown",
   "metadata": {},
   "source": [
    "## Use All Training Data"
   ]
  },
  {
   "cell_type": "markdown",
   "metadata": {},
   "source": [
    "Next, include the validation data into the training data via the MixIterator"
   ]
  },
  {
   "cell_type": "markdown",
   "metadata": {},
   "source": [
    "Only bother doing this for the winner out of Vgg, ResNet50 and Inception"
   ]
  },
  {
   "cell_type": "code",
   "execution_count": 100,
   "metadata": {},
   "outputs": [],
   "source": [
    "#mi = MixIterator([tgenerator, val_generator])\n",
    "# Doesn't work because 'DirectoryIterator' object does not support indexing. Only works when the X_train \n",
    "# and X_valid images are already stored in numpy arrays."
   ]
  },
  {
   "cell_type": "markdown",
   "metadata": {},
   "source": [
    "Next step: include the validation images in the model.  See ..phase5.  Use data in statefarm1 because the validation data was not split off.  Use Vgg model because it is better than ResNet50 so far.  "
   ]
  }
 ],
 "metadata": {
  "kernelspec": {
   "display_name": "Python [default]",
   "language": "python",
   "name": "python2"
  },
  "language_info": {
   "codemirror_mode": {
    "name": "ipython",
    "version": 2
   },
   "file_extension": ".py",
   "mimetype": "text/x-python",
   "name": "python",
   "nbconvert_exporter": "python",
   "pygments_lexer": "ipython2",
   "version": "2.7.14"
  }
 },
 "nbformat": 4,
 "nbformat_minor": 2
}
